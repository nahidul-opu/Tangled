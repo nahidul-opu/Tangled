{
 "cells": [
  {
   "cell_type": "code",
   "execution_count": 9,
   "metadata": {},
   "outputs": [
    {
     "name": "stdout",
     "output_type": "stream",
     "text": [
      "The autoreload extension is already loaded. To reload it, use:\n",
      "  %reload_ext autoreload\n"
     ]
    },
    {
     "data": {
      "application/javascript": "IPython.notebook.set_autosave_interval(120000)"
     },
     "metadata": {},
     "output_type": "display_data"
    },
    {
     "name": "stdout",
     "output_type": "stream",
     "text": [
      "Autosaving every 120 seconds\n"
     ]
    }
   ],
   "source": [
    "%load_ext autoreload\n",
    "%autoreload 2\n",
    "\n",
    "%autosave 120\n",
    "\n",
    "import pandas as pd\n",
    "import glob\n",
    "import numpy as np\n",
    "import os\n",
    "from modules.utilities import are_bugs_from_tangled, has_bug, is_same_history, parse_hash_delimited_string, has_one_bug"
   ]
  },
  {
   "cell_type": "code",
   "execution_count": 10,
   "metadata": {},
   "outputs": [],
   "source": [
    "csv_files = glob.glob(\"./data/Processed/*.csv\")"
   ]
  },
  {
   "cell_type": "markdown",
   "metadata": {},
   "source": [
    "# True Buggy Methods"
   ]
  },
  {
   "cell_type": "code",
   "execution_count": 11,
   "metadata": {},
   "outputs": [],
   "source": [
    "true_buggy_methods = []\n",
    "for csv_file in csv_files:\n",
    "    df = pd.read_csv(csv_file,delimiter=\"\\t\")\n",
    "    for index, row in df.iterrows():\n",
    "        if has_bug(row[\"Buggycommiit\"]) and is_same_history([row[\"RiskyCommit\"], row[\"PotentiallyBuggycommit\"],row[\"Buggycommiit\"]]) and not are_bugs_from_tangled(row[\"TangledWMoveandFileRename\"], row[\"Buggycommiit\"]):\n",
    "            true_buggy_methods.append({\n",
    "                \"Project\": os.path.basename(csv_file).replace(\".csv\",\"\"),\n",
    "                \"File\": row[\"file\"]\n",
    "            })"
   ]
  },
  {
   "cell_type": "code",
   "execution_count": 12,
   "metadata": {},
   "outputs": [],
   "source": [
    "true_buggy_methods = pd.DataFrame(true_buggy_methods)\n",
    "true_buggy_methods.to_csv(\"./data/TrueBuggyMethods.csv\", index=False)"
   ]
  },
  {
   "cell_type": "markdown",
   "metadata": {},
   "source": [
    "# True Not-Buggy Methods"
   ]
  },
  {
   "cell_type": "code",
   "execution_count": 13,
   "metadata": {},
   "outputs": [],
   "source": [
    "true_not_buggy_methods = []\n",
    "for csv_file in csv_files:\n",
    "    df = pd.read_csv(csv_file,delimiter=\"\\t\")\n",
    "    for index, row in df.iterrows():\n",
    "        if not has_bug(row[\"Buggycommiit\"]) and is_same_history([row[\"RiskyCommit\"], row[\"PotentiallyBuggycommit\"],row[\"Buggycommiit\"]]):\n",
    "            true_not_buggy_methods.append({\n",
    "                \"Project\": os.path.basename(csv_file).replace(\".csv\",\"\"),\n",
    "                \"File\": row[\"file\"]\n",
    "            })"
   ]
  },
  {
   "cell_type": "code",
   "execution_count": 14,
   "metadata": {},
   "outputs": [],
   "source": [
    "true_not_buggy_methods = pd.DataFrame(true_not_buggy_methods)\n",
    "true_not_buggy_methods.to_csv(\"./data/TrueNotBuggyMethods.csv\", index=False)"
   ]
  },
  {
   "cell_type": "markdown",
   "metadata": {},
   "source": [
    "# Tangled Buggy Methods"
   ]
  },
  {
   "cell_type": "code",
   "execution_count": 15,
   "metadata": {},
   "outputs": [],
   "source": [
    "tangled_buggy_methods = []\n",
    "for csv_file in csv_files:\n",
    "    df = pd.read_csv(csv_file,delimiter=\"\\t\")\n",
    "    for index, row in df.iterrows():\n",
    "        if has_one_bug(row[\"Buggycommiit\"]) and is_same_history([row[\"RiskyCommit\"], row[\"PotentiallyBuggycommit\"],row[\"Buggycommiit\"]]) and are_bugs_from_tangled(row[\"TangledWMoveandFileRename\"], row[\"Buggycommiit\"]):\n",
    "            #print(row[\"file\"], row[\"RiskyCommit\"], row[\"TangledWMoveandFileRename\"])\n",
    "            change_list = parse_hash_delimited_string(row[\"TangledWMoveandFileRename\"])\n",
    "            change_list.reverse()\n",
    "            history = parse_hash_delimited_string(row[\"Buggycommiit\"])\n",
    "            history.reverse()\n",
    "            \n",
    "            for index, (change_count, is_buggy) in enumerate(zip(change_list, history)):\n",
    "                if is_buggy == 1:\n",
    "                    tangled_buggy_methods.append({\n",
    "                        \"Project\": os.path.basename(csv_file).replace(\".csv\",\"\"),\n",
    "                        \"File\": row[\"file\"],\n",
    "                        \"HistoryIndex\": index,\n",
    "                        \"FileChangeCount\": change_count\n",
    "                    })"
   ]
  },
  {
   "cell_type": "code",
   "execution_count": 16,
   "metadata": {},
   "outputs": [],
   "source": [
    "tangled_buggy_methods = pd.DataFrame(tangled_buggy_methods)\n",
    "tangled_buggy_methods = tangled_buggy_methods[tangled_buggy_methods[\"FileChangeCount\"] > 1]\n",
    "tangled_buggy_methods = tangled_buggy_methods[tangled_buggy_methods[\"FileChangeCount\"] <=5]\n",
    "tangled_buggy_methods.to_csv(\"./data/TangledBuggyMethods.csv\", index=False)"
   ]
  }
 ],
 "metadata": {
  "kernelspec": {
   "display_name": "Python 3",
   "language": "python",
   "name": "python3"
  },
  "language_info": {
   "codemirror_mode": {
    "name": "ipython",
    "version": 3
   },
   "file_extension": ".py",
   "mimetype": "text/x-python",
   "name": "python",
   "nbconvert_exporter": "python",
   "pygments_lexer": "ipython3",
   "version": "3.10.16"
  }
 },
 "nbformat": 4,
 "nbformat_minor": 2
}
