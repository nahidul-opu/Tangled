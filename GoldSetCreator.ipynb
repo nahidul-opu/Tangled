{
 "cells": [
  {
   "cell_type": "code",
   "execution_count": 1,
   "metadata": {},
   "outputs": [
    {
     "data": {
      "application/javascript": "IPython.notebook.set_autosave_interval(120000)"
     },
     "metadata": {},
     "output_type": "display_data"
    },
    {
     "name": "stdout",
     "output_type": "stream",
     "text": [
      "Autosaving every 120 seconds\n"
     ]
    }
   ],
   "source": [
    "%load_ext autoreload\n",
    "%autoreload 2\n",
    "\n",
    "%autosave 120\n",
    "\n",
    "import pandas as pd\n",
    "import glob\n",
    "import numpy as np\n",
    "import os\n",
    "import json\n",
    "from modules.utilities import are_bugs_from_tangled, has_bug, is_same_history, parse_hash_delimited_string, has_one_bug"
   ]
  },
  {
   "cell_type": "code",
   "execution_count": 2,
   "metadata": {},
   "outputs": [],
   "source": [
    "csv_files = glob.glob(\"./data/Processed/*.csv\")"
   ]
  },
  {
   "cell_type": "markdown",
   "metadata": {},
   "source": [
    "# True Buggy Methods"
   ]
  },
  {
   "cell_type": "code",
   "execution_count": 11,
   "metadata": {},
   "outputs": [],
   "source": [
    "true_buggy_methods = []\n",
    "for csv_file in csv_files:\n",
    "    df = pd.read_csv(csv_file,delimiter=\"\\t\")\n",
    "    for index, row in df.iterrows():\n",
    "        if has_bug(row[\"Buggycommiit\"]) and is_same_history([row[\"RiskyCommit\"], row[\"PotentiallyBuggycommit\"],row[\"Buggycommiit\"]]) and not are_bugs_from_tangled(row[\"TangledWMoveandFileRename\"], row[\"Buggycommiit\"]):\n",
    "            true_buggy_methods.append({\n",
    "                \"Project\": os.path.basename(csv_file).replace(\".csv\",\"\"),\n",
    "                \"File\": row[\"file\"]\n",
    "            })"
   ]
  },
  {
   "cell_type": "code",
   "execution_count": 12,
   "metadata": {},
   "outputs": [],
   "source": [
    "true_buggy_methods = pd.DataFrame(true_buggy_methods)\n",
    "true_buggy_methods.to_csv(\"./data/TrueBuggyMethods.csv\", index=False)"
   ]
  },
  {
   "cell_type": "code",
   "execution_count": 50,
   "metadata": {},
   "outputs": [],
   "source": [
    "true_buggy_methods = []\n",
    "for csv_file in csv_files:\n",
    "    df = pd.read_csv(csv_file,delimiter=\"\\t\")\n",
    "    for index, row in df.iterrows():\n",
    "        if has_bug(row[\"Buggycommiit\"]) and is_same_history([row[\"RiskyCommit\"], row[\"PotentiallyBuggycommit\"],row[\"Buggycommiit\"]]) and not are_bugs_from_tangled(row[\"TangledWMoveandFileRename\"], row[\"Buggycommiit\"]):\n",
    "            history = parse_hash_delimited_string(row[\"Buggycommiit\"])\n",
    "            history.reverse()\n",
    "            project =  os.path.basename(csv_file).replace(\".csv\",\"\")\n",
    "            json_path = os.path.join(\"./data/source-methods/\", project, row[\"file\"])\n",
    "            data = json.load(open(json_path))\n",
    "\n",
    "            for index, is_buggy in enumerate(history):\n",
    "                if is_buggy:\n",
    "                    try:\n",
    "                        hash = data[\"changeHistory\"][index]\n",
    "                        \n",
    "                        commit_data = data[\"changeHistoryDetails\"][hash]\n",
    "                        change_data = commit_data[\"subchanges\"][0] if \"subchanges\" in commit_data.keys() else commit_data\n",
    "\n",
    "                        if \"fix quality flaw\" in change_data[\"commitMessage\"].lower() or \"fix some quality flaw\" in change_data[\"commitMessage\"].lower() or change_data[\"diff\"] == \"\":\n",
    "                            continue\n",
    "\n",
    "                        true_buggy_methods.append(\n",
    "                            {\n",
    "                                \"Project\": project,\n",
    "                                \"File\": row[\"file\"],\n",
    "                                \"CommitHash\": hash,\n",
    "                                \"Diff\": change_data[\"diff\"],\n",
    "                                \"CommitMessage\": change_data[\"commitMessage\"],\n",
    "                                \"Decision\": \"Buggy\"\n",
    "                            }\n",
    "                        )\n",
    "                    except:\n",
    "                        hash = data[\"changeHistory\"][index]\n",
    "                        print(project, row[\"file\"], hash)\n",
    "                \n",
    "true_buggy_gold_set = pd.DataFrame(true_buggy_methods)\n",
    "true_buggy_gold_set.to_csv(\"./data/GoldSet_TrueBuggyMethods.csv\", index=False)"
   ]
  },
  {
   "cell_type": "markdown",
   "metadata": {},
   "source": [
    "# True Not-Buggy Methods"
   ]
  },
  {
   "cell_type": "code",
   "execution_count": 13,
   "metadata": {},
   "outputs": [],
   "source": [
    "true_not_buggy_methods = []\n",
    "for csv_file in csv_files:\n",
    "    df = pd.read_csv(csv_file,delimiter=\"\\t\")\n",
    "    for index, row in df.iterrows():\n",
    "        if not has_bug(row[\"Buggycommiit\"]) and is_same_history([row[\"RiskyCommit\"], row[\"PotentiallyBuggycommit\"],row[\"Buggycommiit\"]]):\n",
    "            true_not_buggy_methods.append({\n",
    "                \"Project\": os.path.basename(csv_file).replace(\".csv\",\"\"),\n",
    "                \"File\": row[\"file\"]\n",
    "            })"
   ]
  },
  {
   "cell_type": "code",
   "execution_count": 14,
   "metadata": {},
   "outputs": [],
   "source": [
    "true_not_buggy_methods = pd.DataFrame(true_not_buggy_methods)\n",
    "true_not_buggy_methods.to_csv(\"./data/TrueNotBuggyMethods.csv\", index=False)"
   ]
  },
  {
   "cell_type": "code",
   "execution_count": null,
   "metadata": {},
   "outputs": [
    {
     "data": {
      "text/plain": [
       "1"
      ]
     },
     "execution_count": 23,
     "metadata": {},
     "output_type": "execute_result"
    }
   ],
   "source": [
    "from random import randrange\n",
    "print(randrange(1,10))"
   ]
  },
  {
   "cell_type": "code",
   "execution_count": 51,
   "metadata": {},
   "outputs": [],
   "source": [
    "p_cnt = 1\n",
    "true_not_buggy_methods = []\n",
    "for csv_file in csv_files:\n",
    "    df = pd.read_csv(csv_file,delimiter=\"\\t\")\n",
    "    df = df.sample(frac=1).reset_index(drop=True)\n",
    "    c_cnt = 0\n",
    "    limit = 15 if p_cnt <= 47 else 14\n",
    "    for index, row in df.iterrows():\n",
    "        if not has_bug(row[\"Buggycommiit\"]) and is_same_history([row[\"RiskyCommit\"], row[\"PotentiallyBuggycommit\"],row[\"Buggycommiit\"]]) and len(parse_hash_delimited_string(row[\"Buggycommiit\"])) > 1:\n",
    "            history = parse_hash_delimited_string(row[\"Buggycommiit\"])\n",
    "            history.reverse()\n",
    "            \n",
    "            project =  os.path.basename(csv_file).replace(\".csv\",\"\")\n",
    "            json_path = os.path.join(\"./data/source-methods/\", project, row[\"file\"])\n",
    "            data = json.load(open(json_path))\n",
    "\n",
    "            index = randrange(0, len(history) - 1)\n",
    "            hash = data[\"changeHistory\"][index]\n",
    "            \n",
    "            commit_data = data[\"changeHistoryDetails\"][hash]\n",
    "            change_data = commit_data[\"subchanges\"][0] if \"subchanges\" in commit_data.keys() else commit_data\n",
    "            if change_data[\"diff\"] == \"\":\n",
    "                continue\n",
    "\n",
    "            true_not_buggy_methods.append(\n",
    "                {\n",
    "                    \"Project\": project,\n",
    "                    \"File\": row[\"file\"],\n",
    "                    \"CommitHash\": hash,\n",
    "                    \"Diff\": change_data[\"diff\"],\n",
    "                    \"CommitMessage\": change_data[\"commitMessage\"],\n",
    "                    \"Decision\": \"NotBuggy\"\n",
    "                }\n",
    "            )\n",
    "            c_cnt = c_cnt + 1\n",
    "        if c_cnt == limit:\n",
    "            break\n",
    "    p_cnt = p_cnt + 1            \n",
    "true_not_buggy_gold_set = pd.DataFrame(true_not_buggy_methods)\n",
    "true_not_buggy_gold_set.to_csv(\"./data/GoldSet_TrueNotBuggyMethods.csv\", index=False)"
   ]
  },
  {
   "cell_type": "markdown",
   "metadata": {},
   "source": [
    "# Tangled Buggy Methods"
   ]
  },
  {
   "cell_type": "code",
   "execution_count": 15,
   "metadata": {},
   "outputs": [],
   "source": [
    "tangled_buggy_methods = []\n",
    "for csv_file in csv_files:\n",
    "    df = pd.read_csv(csv_file,delimiter=\"\\t\")\n",
    "    for index, row in df.iterrows():\n",
    "        if has_one_bug(row[\"Buggycommiit\"]) and is_same_history([row[\"RiskyCommit\"], row[\"PotentiallyBuggycommit\"],row[\"Buggycommiit\"]]) and are_bugs_from_tangled(row[\"TangledWMoveandFileRename\"], row[\"Buggycommiit\"]):\n",
    "            #print(row[\"file\"], row[\"RiskyCommit\"], row[\"TangledWMoveandFileRename\"])\n",
    "            change_list = parse_hash_delimited_string(row[\"TangledWMoveandFileRename\"])\n",
    "            change_list.reverse()\n",
    "            history = parse_hash_delimited_string(row[\"Buggycommiit\"])\n",
    "            history.reverse()\n",
    "            \n",
    "            for index, (change_count, is_buggy) in enumerate(zip(change_list, history)):\n",
    "                if is_buggy == 1:\n",
    "                    tangled_buggy_methods.append({\n",
    "                        \"Project\": os.path.basename(csv_file).replace(\".csv\",\"\"),\n",
    "                        \"File\": row[\"file\"],\n",
    "                        \"HistoryIndex\": index,\n",
    "                        \"FileChangeCount\": change_count\n",
    "                    })"
   ]
  },
  {
   "cell_type": "code",
   "execution_count": 16,
   "metadata": {},
   "outputs": [],
   "source": [
    "tangled_buggy_methods = pd.DataFrame(tangled_buggy_methods)\n",
    "tangled_buggy_methods = tangled_buggy_methods[tangled_buggy_methods[\"FileChangeCount\"] > 1]\n",
    "tangled_buggy_methods = tangled_buggy_methods[tangled_buggy_methods[\"FileChangeCount\"] <=5]\n",
    "tangled_buggy_methods.to_csv(\"./data/TangledBuggyMethods.csv\", index=False)"
   ]
  },
  {
   "cell_type": "code",
   "execution_count": null,
   "metadata": {},
   "outputs": [
    {
     "data": {
      "image/png": "[encoded data removed]",
      "text/plain": [
       "<Figure size 800x800 with 1 Axes>"
      ]
     },
     "metadata": {},
     "output_type": "display_data"
    }
   ],
   "source": [
    "import matplotlib.pyplot as plt\n",
    "\n",
    "# Data\n",
    "labels = ['True Buggy Methods', 'True NotBuggy Methods', 'Tangled Buggy Methods', 'Tangled NotBuggy Methods']\n",
    "sizes = [732, 732, 166, 141]\n",
    "\n",
    "# Combine label with actual value for legend\n",
    "legend_labels = [f\"{label} ({value})\" for label, value in zip(labels, sizes)]\n",
    "\n",
    "# Softer red/green shades with opacity (RGBA)\n",
    "colors = [\n",
    "    (231/255, 76/255, 60/255, 0.6),   # Light red\n",
    "    (46/255, 204/255, 113/255, 0.6),  # Light green\n",
    "    (192/255, 57/255, 43/255, 0.6),   # Deeper red\n",
    "    (82/255, 239/255, 150/255, 0.6)   # Deeper green\n",
    "]\n",
    "\n",
    "# Create Pie Chart without inside labels\n",
    "plt.figure(figsize=(8, 8))\n",
    "wedges, _, autotexts = plt.pie(\n",
    "    sizes, labels=[None]*len(labels), autopct='%1.1f%%',\n",
    "    startangle=140, colors=colors\n",
    ")\n",
    "\n",
    "# Add a legend with actual values\n",
    "plt.legend(wedges, legend_labels, title='Method Types', loc='upper right', bbox_to_anchor=(1, 0.5))\n",
    "\n",
    "# Format percentage text\n",
    "for text in autotexts:\n",
    "    text.set_color('black')\n",
    "    text.set_fontweight('bold')\n",
    "\n",
    "plt.axis('equal')\n",
    "plt.tight_layout()\n",
    "plt.show()\n"
   ]
  }
 ],
 "metadata": {
  "kernelspec": {
   "display_name": ".venv",
   "language": "python",
   "name": "python3"
  },
  "language_info": {
   "codemirror_mode": {
    "name": "ipython",
    "version": 3
   },
   "file_extension": ".py",
   "mimetype": "text/x-python",
   "name": "python",
   "nbconvert_exporter": "python",
   "pygments_lexer": "ipython3",
   "version": "3.10.16"
  }
 },
 "nbformat": 4,
 "nbformat_minor": 2
}
