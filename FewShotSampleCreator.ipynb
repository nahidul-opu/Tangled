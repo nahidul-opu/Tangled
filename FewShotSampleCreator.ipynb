{
 "cells": [
  {
   "cell_type": "code",
   "execution_count": 34,
   "metadata": {},
   "outputs": [],
   "source": [
    "import json"
   ]
  },
  {
   "cell_type": "code",
   "execution_count": 35,
   "metadata": {},
   "outputs": [],
   "source": [
    "few_shots = []"
   ]
  },
  {
   "cell_type": "markdown",
   "metadata": {},
   "source": [
    "# 266 voldemort 10099.json"
   ]
  },
  {
   "cell_type": "code",
   "execution_count": 36,
   "metadata": {},
   "outputs": [],
   "source": [
    "message = \"Fix transactional bug in mysql--transaction must be committed.\"\n",
    "diff = \"\"\"\n",
    "@@ -1,58 +1,59 @@\n",
    "     public void put(ByteArray key, Versioned<byte[]> value) throws PersistenceFailureException {\n",
    "         StoreUtils.assertValidKey(key);\n",
    "         boolean doCommit = false;\n",
    "         Connection conn = null;\n",
    "         PreparedStatement insert = null;\n",
    "         PreparedStatement select = null;\n",
    "         ResultSet results = null;\n",
    "         String insertSql = \"insert into \" + name + \" (key_, version_, value_) values (?, ?, ?)\";\n",
    "         String selectSql = \"select key_, version_ from \" + name + \" where key_ = ?\";\n",
    "         try {\n",
    "             conn = datasource.getConnection();\n",
    "             conn.setAutoCommit(false);\n",
    " \n",
    "             // check for superior versions\n",
    "             select = conn.prepareStatement(selectSql);\n",
    "             select.setBytes(1, key.get());\n",
    "             results = select.executeQuery();\n",
    "             while(results.next()) {\n",
    "                 byte[] thisKey = results.getBytes(\"key_\");\n",
    "                 VectorClock version = new VectorClock(results.getBytes(\"version_\"));\n",
    "                 Occured occured = value.getVersion().compare(version);\n",
    "                 if(occured == Occured.BEFORE)\n",
    "                     throw new ObsoleteVersionException(\"Attempt to put version \"\n",
    "                                                        + value.getVersion()\n",
    "                                                        + \" which is superceeded by \" + version\n",
    "                                                        + \".\");\n",
    "                 else if(occured == Occured.AFTER)\n",
    "                     delete(conn, thisKey, version.toBytes());\n",
    "             }\n",
    " \n",
    "             // Okay, cool, now put the value\n",
    "             insert = conn.prepareStatement(insertSql);\n",
    "             insert.setBytes(1, key.get());\n",
    "             VectorClock clock = (VectorClock) value.getVersion();\n",
    "             insert.setBytes(2, clock.toBytes());\n",
    "             insert.setBytes(3, value.getValue());\n",
    "             insert.executeUpdate();\n",
    "+            doCommit = true;\n",
    "         } catch(SQLException e) {\n",
    "             if(e.getErrorCode() == MYSQL_ERR_DUP_KEY || e.getErrorCode() == MYSQL_ERR_DUP_ENTRY) {\n",
    "                 throw new ObsoleteVersionException(\"Key or value already used.\");\n",
    "             } else {\n",
    "                 throw new PersistenceFailureException(\"Fix me!\", e);\n",
    "             }\n",
    "         } finally {\n",
    "             if(conn != null) {\n",
    "                 try {\n",
    "                     if(doCommit)\n",
    "                         conn.commit();\n",
    "                     else\n",
    "                         conn.rollback();\n",
    "                 } catch(SQLException e) {}\n",
    "             }\n",
    "             tryClose(results);\n",
    "             tryClose(insert);\n",
    "             tryClose(select);\n",
    "             tryClose(conn);\n",
    "         }\n",
    "     }\n",
    "\"\"\"\n",
    "explanation = \"\"\n",
    "answer = \"Buggy\""
   ]
  },
  {
   "cell_type": "code",
   "execution_count": 37,
   "metadata": {},
   "outputs": [],
   "source": [
    "few_shots.append(\n",
    "    {\"Message\": message, \"Diff\": diff, \"Explanation\": explanation, \"Answer\": answer},\n",
    ")"
   ]
  },
  {
   "cell_type": "markdown",
   "metadata": {},
   "source": [
    "# 265 voldemort 10087.json"
   ]
  },
  {
   "cell_type": "code",
   "execution_count": 38,
   "metadata": {},
   "outputs": [],
   "source": [
    "message = \"Fix transactional bug in mysql--transaction must be committed.\"\n",
    "diff = \"\"\"\n",
    "@@ -1,5 +1,5 @@\n",
    "     public void create() {\n",
    "-        execute(\"create table \"\n",
    "-                + getName()\n",
    "-                + \" (key_ varbinary(200) not null, version_ varbinary(200) not null, value_ blob, primary key(key_, version_))\");\n",
    "+        execute(\"create table \" + getName()\n",
    "+                + \" (key_ varbinary(200) not null, version_ varbinary(200) not null, \"\n",
    "+                + \" value_ blob, primary key(key_, version_)) engine = InnoDB\");\n",
    "     }\n",
    "\"\"\"\n",
    "explanation = \"\"\n",
    "answer = \"NotBuggy\""
   ]
  },
  {
   "cell_type": "code",
   "execution_count": 39,
   "metadata": {},
   "outputs": [],
   "source": [
    "few_shots.append(\n",
    "    {\"Message\": message, \"Diff\": diff, \"Explanation\": explanation, \"Answer\": answer},\n",
    ")"
   ]
  },
  {
   "cell_type": "markdown",
   "metadata": {},
   "source": [
    "# 75 PMD 2899.json"
   ]
  },
  {
   "cell_type": "code",
   "execution_count": 40,
   "metadata": {},
   "outputs": [],
   "source": [
    "message = \"\"\"fixed bug in CPD directory scanning\n",
    "\n",
    "\n",
    "git-svn-id: https://pmd.svn.sourceforge.net/svnroot/pmd/trunk@660 51baf565-9d33-0410-a72c-fc3788e3496d\"\"\"\n",
    "diff = \"\"\"\n",
    "@@ -1,12 +1,14 @@\n",
    "     private void scanDirectory(File dir, List list, boolean recurse) {\n",
    "      FilenameFilter filter = new JavaFileOrDirectoryFilter();\n",
    "      String[] possibles = dir.list(filter);\n",
    "      for (int i=0; i<possibles.length; i++) {\n",
    "         File tmp = new File(dir + System.getProperty(\"file.separator\") + possibles[i]);\n",
    "-        if (recurse && tmp.isDirectory()) {\n",
    "-           scanDirectory(tmp, list, true);\n",
    "+        if (tmp.isDirectory()) {\n",
    "+            if (recurse) {\n",
    "+                scanDirectory(tmp, list, true);\n",
    "+            }\n",
    "         } else {\n",
    "            list.add(new File(dir + System.getProperty(\"file.separator\") + possibles[i]));\n",
    "         }\n",
    "      }\n",
    "     }\n",
    "\"\"\"\n",
    "explanation = \"\"\n",
    "answer = \"Buggy\""
   ]
  },
  {
   "cell_type": "code",
   "execution_count": 41,
   "metadata": {},
   "outputs": [],
   "source": [
    "few_shots.append(\n",
    "    {\"Message\": message, \"Diff\": diff, \"Explanation\": explanation, \"Answer\": answer},\n",
    ")"
   ]
  },
  {
   "cell_type": "markdown",
   "metadata": {},
   "source": [
    "# 76 PMD 2494.json"
   ]
  },
  {
   "cell_type": "code",
   "execution_count": 42,
   "metadata": {},
   "outputs": [],
   "source": [
    "message = \"\"\"fixed bug in CPD directory scanning\n",
    "\n",
    "\n",
    "git-svn-id: https://pmd.svn.sourceforge.net/svnroot/pmd/trunk@660 51baf565-9d33-0410-a72c-fc3788e3496d\"\"\"\n",
    "diff = \"\"\"\n",
    "@@ -1,23 +1,24 @@\n",
    "     private void go() {\n",
    "         try {\n",
    "             CPD cpd = new CPD();\n",
    "             cpd.setListener(this);\n",
    "             cpd.setMinimumTileSize(Integer.parseInt(minimumLengthField.getText()));\n",
    "             addingTokensBar.setStringPainted(true);\n",
    "             if (rootDirectoryField.getText().endsWith(\".java\")) {\n",
    "                 cpd.add(new File(rootDirectoryField.getText()));\n",
    "             } else {\n",
    "                 if (recurseCheckbox.isSelected()) {\n",
    "                     cpd.addRecursively(rootDirectoryField.getText());\n",
    "                 } else {\n",
    "                     cpd.addAllInDirectory(rootDirectoryField.getText());\n",
    "                 }\n",
    "             }\n",
    "             cpd.go();\n",
    "             CPDRenderer renderer = new TextRenderer();\n",
    "             resultsTextArea.setText(\"\");\n",
    "             resultsTextArea.append(renderer.render(cpd));\n",
    "         } catch (IOException ioe) {\n",
    "             ioe.printStackTrace();\n",
    "+            JOptionPane.showMessageDialog(null, \"Halted due to \" + ioe.getClass().getName() + \"; \" + ioe.getMessage());\n",
    "         }\n",
    "     }\n",
    "\"\"\"\n",
    "explanation = \"\"\n",
    "answer = \"NotBuggy\""
   ]
  },
  {
   "cell_type": "code",
   "execution_count": 43,
   "metadata": {},
   "outputs": [],
   "source": [
    "few_shots.append(\n",
    "    {\"Message\": message, \"Diff\": diff, \"Explanation\": explanation, \"Answer\": answer},\n",
    ")"
   ]
  },
  {
   "cell_type": "markdown",
   "metadata": {},
   "source": [
    "# 280 weka 4596.json"
   ]
  },
  {
   "cell_type": "code",
   "execution_count": 44,
   "metadata": {},
   "outputs": [],
   "source": [
    "message = \"\"\"Fixed a bug so it can be used without setting any options.\n",
    "\n",
    "\n",
    "git-svn-id: https://svn.cms.waikato.ac.nz/svn/weka/trunk@1855 e0a1b77d-ad91-4216-81b1-defd5f83fa92\n",
    "\"\"\"\n",
    "diff = \"\"\"\n",
    "@@ -1,7 +1,8 @@\n",
    "     public void setOptions(String[] options) throws Exception {\n",
    "         \n",
    "         setNormalizeWordWeights(Utils.getFlag('N', options));\n",
    "         \n",
    "         String val = Utils.getOption('S', options);\n",
    "-        setSmoothingParameter(Double.parseDouble(val));\n",
    "+        if(val.length()!=0)\n",
    "+          setSmoothingParameter(Double.parseDouble(val));\n",
    "     }\n",
    "\"\"\"\n",
    "explanation = \"\"\n",
    "answer = \"Buggy\""
   ]
  },
  {
   "cell_type": "code",
   "execution_count": 45,
   "metadata": {},
   "outputs": [],
   "source": [
    "few_shots.append(\n",
    "    {\"Message\": message, \"Diff\": diff, \"Explanation\": explanation, \"Answer\": answer},\n",
    ")"
   ]
  },
  {
   "cell_type": "markdown",
   "metadata": {},
   "source": [
    "# 15 sprint-boot 9497.json"
   ]
  },
  {
   "cell_type": "code",
   "execution_count": 46,
   "metadata": {},
   "outputs": [],
   "source": [
    "message = \"\"\"Add support for custom ProtocolResolver with Devtools\n",
    "\n",
    "Prior to this commit, custom `ProtocolResolvers` set on the\n",
    "`ApplicationContext` were lost when Devtools is used as the customized\n",
    "`ResourceLoader` did not copy any customization made to the default\n",
    "resource loader.\n",
    "\n",
    "This commit makes sure to copy any `ProtocolResolver` set on the context.\n",
    "\n",
    "Closes gh-9331\n",
    "\"\"\"\n",
    "diff = \"\"\"\n",
    "@@ -1,10 +1,9 @@\n",
    " \t\tpublic ResourcePatternResolver getResourcePatternResolver(\n",
    " \t\t\t\tApplicationContext applicationContext, ResourceLoader resourceLoader) {\n",
    " \t\t\tif (applicationContext instanceof WebApplicationContext) {\n",
    " \t\t\t\treturn new ServletContextResourcePatternResolver(resourceLoader == null\n",
    "-\t\t\t\t\t\t? new WebApplicationContextResourceLoader(\n",
    "-\t\t\t\t\t\t\t\t(WebApplicationContext) applicationContext)\n",
    "+\t\t\t\t\t\t? createResourceLoader((WebApplicationContext) applicationContext)\n",
    " \t\t\t\t\t\t: resourceLoader);\n",
    " \t\t\t}\n",
    " \t\t\treturn super.getResourcePatternResolver(applicationContext, resourceLoader);\n",
    " \t\t}\n",
    "\"\"\"\n",
    "explanation = \"\"\n",
    "answer = \"NotBuggy\""
   ]
  },
  {
   "cell_type": "code",
   "execution_count": 47,
   "metadata": {},
   "outputs": [],
   "source": [
    "few_shots.append(\n",
    "    {\"Message\": message, \"Diff\": diff, \"Explanation\": explanation, \"Answer\": answer},\n",
    ")"
   ]
  },
  {
   "cell_type": "markdown",
   "metadata": {},
   "source": [
    "# Create json"
   ]
  },
  {
   "cell_type": "code",
   "execution_count": 48,
   "metadata": {},
   "outputs": [],
   "source": [
    "json.dump(few_shots,open(\"./data/FewShots.json\", \"w\"))"
   ]
  }
 ],
 "metadata": {
  "kernelspec": {
   "display_name": ".venv",
   "language": "python",
   "name": "python3"
  },
  "language_info": {
   "codemirror_mode": {
    "name": "ipython",
    "version": 3
   },
   "file_extension": ".py",
   "mimetype": "text/x-python",
   "name": "python",
   "nbconvert_exporter": "python",
   "pygments_lexer": "ipython3",
   "version": "3.12.7"
  }
 },
 "nbformat": 4,
 "nbformat_minor": 2
}
