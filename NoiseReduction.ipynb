{
 "cells": [
  {
   "cell_type": "code",
   "execution_count": 3,
   "metadata": {},
   "outputs": [
    {
     "name": "stdout",
     "output_type": "stream",
     "text": [
      "The autoreload extension is already loaded. To reload it, use:\n",
      "  %reload_ext autoreload\n"
     ]
    }
   ],
   "source": [
    "%load_ext autoreload\n",
    "%autoreload 2\n",
    "\n",
    "import json\n",
    "import pandas as pd\n",
    "import numpy as np\n",
    "from sklearn.metrics import accuracy_score, classification_report\n",
    "\n",
    "\n",
    "from modules.Untangler import Untangler\n",
    "random_seed = 50"
   ]
  },
  {
   "cell_type": "code",
   "execution_count": null,
   "metadata": {},
   "outputs": [],
   "source": [
    "sample_count = 5\n",
    "df = pd.read_csv(\"./data/GoldSet.csv\")\n",
    "df[\"Diff\"] = df[\"Diff\"].apply(lambda x: x.replace(\"\\\\ No newline at end of file\",\"\").strip())\n",
    "\n",
    "buggy_df = df[df.Decision == 'Buggy'][[\"CommitMessage\", \"Diff\", \"Decision\"]]\n",
    "rows = np.random.choice(buggy_df.index.values,sample_count)\n",
    "buggy_df = buggy_df.loc[rows]\n",
    "\n",
    "notbuggy_df = df[df.Decision == 'NotBuggy'][[\"CommitMessage\", \"Diff\", \"Decision\"]]\n",
    "rows = np.random.choice(notbuggy_df.index.values,sample_count)\n",
    "notbuggy_df = notbuggy_df.loc[rows]\n",
    "\n",
    "few_shot_data = [*buggy_df.values.tolist() , *notbuggy_df.values.tolist()]\n",
    "json.dump(few_shot_data,open(\"./data/FewShots.json\",\"w\"))"
   ]
  },
  {
   "cell_type": "code",
   "execution_count": 5,
   "metadata": {},
   "outputs": [],
   "source": [
    "df = pd.read_csv(\"./data/GoldSet.csv\")\n",
    "#df[\"Diff\"] = df[\"Diff\"].apply(lambda x: x.replace(\"\\\\ No newline at end of file\",\"\").strip())"
   ]
  },
  {
   "cell_type": "code",
   "execution_count": 32,
   "metadata": {},
   "outputs": [
    {
     "name": "stdout",
     "output_type": "stream",
     "text": [
      "Prompt for: gemini\n",
      "\n",
      "\n",
      "\n",
      "Commit Messaage: Fix two bugs in MinMaxPriorityQueue (introduced in []). First is a bug in removeAt(int) that sometimes causes the wrong element to be removed. Second is a bug that sometimes causes certain elements to be iterated over more than once if elements were removed during iteration.\n",
      "\n",
      "Reported externally at https://github.com/google/guava/issues/2658\n",
      "\n",
      "-------------\n",
      "Created by MOE: https://github.com/google/moe\n",
      "MOE_MIGRATED_REVID=140382230\n",
      "Git Diff:\n",
      "@@ -1,16 +1,16 @@\n",
      "-    int getCorrectLastElement(E actualLastElement) {\n",
      "+    int swapWithConceptuallyLastElement(E actualLastElement) {\n",
      "       int parentIndex = getParentIndex(size);\n",
      "       if (parentIndex != 0) {\n",
      "         int grandparentIndex = getParentIndex(parentIndex);\n",
      "         int uncleIndex = getRightChildIndex(grandparentIndex);\n",
      "         if (uncleIndex != parentIndex && getLeftChildIndex(uncleIndex) >= size) {\n",
      "           E uncleElement = elementData(uncleIndex);\n",
      "           if (ordering.compare(uncleElement, actualLastElement) < 0) {\n",
      "             queue[uncleIndex] = actualLastElement;\n",
      "             queue[size] = uncleElement;\n",
      "             return uncleIndex;\n",
      "           }\n",
      "         }\n",
      "       }\n",
      "       return size;\n",
      "     }\n",
      "\\ No newline at end of file\n",
      "Answer: This diff appears to rename the method getCorrectLastElement to swapWithConceptuallyLastElement without making any functional changes to the logic. Since the reported bugs involve incorrect element removal and duplicate iteration during removal, this change does not directly address those issues. It is likely a refactor or clarification rather than a bug fix. The answer is **NotBuggy**.\n",
      "\n",
      "Commit Messaage: ImmediateFuture.toString() implementation to provide the returned value or exception.\n",
      "Provides for all ImmediateFutures implementation the same syntax that AbstractFuture uses.\n",
      "\n",
      "It's especially convenient during debugging of mocked asynchronous gRPC services.\n",
      "\n",
      "Fixes bug in AbstractFuture#toString in GWT that caused wrong representation:\n",
      "\"Class$S413@205[status=SUCCESS, result=[FAILURE, cause=[Class$S6]]\" due to ongoing\n",
      "builder being already called when getDone() throws exception.\n",
      "\n",
      "-------------\n",
      "Created by MOE: https://github.com/google/moe\n",
      "MOE_MIGRATED_REVID=165925433\n",
      "Git Diff:\n",
      "@@ -1,11 +1,12 @@\n",
      "   private void addDoneString(StringBuilder builder) {\n",
      "     try {\n",
      "-      builder.append(\"SUCCESS, result=[\").append(getDone(this)).append(\"]\");\n",
      "+      V value = getDone(this);\n",
      "+      builder.append(\"SUCCESS, result=[\").append(value).append(\"]\");\n",
      "     } catch (ExecutionException e) {\n",
      "       builder.append(\"FAILURE, cause=[\").append(e.getCause()).append(\"]\");\n",
      "     } catch (CancellationException e) {\n",
      "       builder.append(\"CANCELLED\");\n",
      "     } catch (RuntimeException e) {\n",
      "       builder.append(\"UNKNOWN, cause=[\").append(e.getClass()).append(\" thrown from get()]\");\n",
      "     }\n",
      "   }\n",
      "\\ No newline at end of file\n",
      "\n",
      "Answer:\n"
     ]
    }
   ],
   "source": [
    "untangler = Untangler(\"gemini\", True)\n",
    "untangler.prepare_prompt(df[\"CommitMessage\"].iloc[50], df[\"Diff\"].iloc[50])\n",
    "untangler.print_prompt()"
   ]
  },
  {
   "cell_type": "code",
   "execution_count": 33,
   "metadata": {},
   "outputs": [
    {
     "data": {
      "text/plain": [
       "'Buggy'"
      ]
     },
     "execution_count": 33,
     "metadata": {},
     "output_type": "execute_result"
    }
   ],
   "source": [
    "df[\"Decision\"].iloc[50]"
   ]
  },
  {
   "cell_type": "code",
   "execution_count": 34,
   "metadata": {},
   "outputs": [
    {
     "data": {
      "text/plain": [
       "'The commit message indicates a fix for a bug in `AbstractFuture#toString` in GWT, which caused an incorrect representation due to an exception being thrown during the `getDone()` call. The diff shows that the code now captures the result of `getDone()` in a variable `value` before appending it to the string builder. This ensures that the `getDone()` method is only called once, and any exception thrown during that call is caught and handled appropriately, preventing the incorrect representation. This aligns with the bug fix described in the commit message. The answer is **Buggy**.\\n'"
      ]
     },
     "execution_count": 34,
     "metadata": {},
     "output_type": "execute_result"
    }
   ],
   "source": [
    "untangler.detect()"
   ]
  },
  {
   "cell_type": "code",
   "execution_count": null,
   "metadata": {},
   "outputs": [],
   "source": [
    "untangler = Untangler(\"gemini\")\n",
    "y_true, y_pred = untangler.batch_detect(df)\n",
    "accuracy_score(y_true, y_pred)\n",
    "print(classification_report(y_true, y_pred))"
   ]
  },
  {
   "cell_type": "code",
   "execution_count": null,
   "metadata": {},
   "outputs": [
    {
     "name": "stdout",
     "output_type": "stream",
     "text": [
      "              precision    recall  f1-score   support\n",
      "\n",
      "       Buggy       0.72      0.95      0.82       144\n",
      "    NotBuggy       0.91      0.56      0.69       122\n",
      "\n",
      "    accuracy                           0.77       266\n",
      "   macro avg       0.81      0.75      0.75       266\n",
      "weighted avg       0.80      0.77      0.76       266\n",
      "\n"
     ]
    }
   ],
   "source": [
    "print(classification_report(y_true, y_pred))"
   ]
  },
  {
   "cell_type": "code",
   "execution_count": null,
   "metadata": {},
   "outputs": [],
   "source": [
    "untangler = Untangler(\"openai\")\n",
    "untangler.get_batch_result(\"batch_67ba5b015398819094fe8cc1b5928ae6\")"
   ]
  },
  {
   "cell_type": "code",
   "execution_count": 155,
   "metadata": {},
   "outputs": [
    {
     "name": "stderr",
     "output_type": "stream",
     "text": [
      "100%|██████████| 266/266 [00:00<?, ?it/s]\n"
     ]
    },
    {
     "name": "stdout",
     "output_type": "stream",
     "text": [
      "Accuracy:  0.7819548872180451\n",
      "              precision    recall  f1-score   support\n",
      "\n",
      "       Buggy       0.73      0.94      0.82       144\n",
      "    NotBuggy       0.89      0.60      0.72       122\n",
      "\n",
      "    accuracy                           0.78       266\n",
      "   macro avg       0.81      0.77      0.77       266\n",
      "weighted avg       0.81      0.78      0.77       266\n",
      "\n"
     ]
    }
   ],
   "source": [
    "untangler = Untangler(\"openai\")\n",
    "\n",
    "y_true = []\n",
    "for index, row in df.iterrows():\n",
    "    y_true.append(row[\"Decision\"])\n",
    "batch, y_pred = untangler.get_batch_result(\"batch_67ba558986f08190bb2c61a32d87a2e3\")\n",
    "print(\"Accuracy: \", accuracy_score(y_true, y_pred))\n",
    "print(classification_report(y_true, y_pred))"
   ]
  }
 ],
 "metadata": {
  "kernelspec": {
   "display_name": ".venv",
   "language": "python",
   "name": "python3"
  },
  "language_info": {
   "codemirror_mode": {
    "name": "ipython",
    "version": 3
   },
   "file_extension": ".py",
   "mimetype": "text/x-python",
   "name": "python",
   "nbconvert_exporter": "python",
   "pygments_lexer": "ipython3",
   "version": "3.12.7"
  }
 },
 "nbformat": 4,
 "nbformat_minor": 2
}
