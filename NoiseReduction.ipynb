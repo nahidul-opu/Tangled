{
 "cells": [
  {
   "cell_type": "code",
   "execution_count": 2,
   "metadata": {},
   "outputs": [
    {
     "data": {
      "application/javascript": "IPython.notebook.set_autosave_interval(120000)"
     },
     "metadata": {},
     "output_type": "display_data"
    },
    {
     "name": "stdout",
     "output_type": "stream",
     "text": [
      "Autosaving every 120 seconds\n"
     ]
    }
   ],
   "source": [
    "%load_ext autoreload\n",
    "%autoreload 2\n",
    "\n",
    "%autosave 120\n",
    "import sys\n",
    "import pandas as pd\n",
    "import glob\n",
    "import numpy as np\n",
    "import os\n",
    "import random\n",
    "from tqdm import tqdm\n",
    "import json\n",
    "from modules.utilities import are_bugs_from_tangled, has_bug, is_same_history, parse_hash_delimited_string\n",
    "from modules.Untangler import Untangler"
   ]
  },
  {
   "cell_type": "code",
   "execution_count": 5,
   "metadata": {},
   "outputs": [
    {
     "name": "stderr",
     "output_type": "stream",
     "text": [
      "9781it [00:00, 11681.51it/s]<?, ?it/s]\n",
      "12755it [00:01, 9471.60it/s]<00:51,  1.07s/it]\n",
      "2659it [00:00, 4579.48it/s]2<01:10,  1.50s/it]\n",
      "15953it [00:01, 11166.85it/s]00:52,  1.13s/it]\n",
      "3340it [00:00, 7378.09it/s]5<01:03,  1.41s/it]\n",
      "1145it [00:00, 11604.87it/s]<00:49,  1.12s/it]\n",
      "2948it [00:00, 8457.38it/s]6<00:33,  1.27it/s]\n",
      "1146it [00:00, 11993.50it/s]<00:28,  1.47it/s]\n",
      "36514it [00:02, 13130.76it/s]00:20,  1.98it/s]\n",
      "22124it [00:03, 6118.35it/s]<00:57,  1.43s/it]\n",
      "60627it [00:05, 10540.60it/s]<01:29,  2.30s/it]\n",
      " 20%|██        | 10/49 [00:20<01:21,  2.08s/it]\n"
     ]
    },
    {
     "ename": "KeyboardInterrupt",
     "evalue": "",
     "output_type": "error",
     "traceback": [
      "\u001b[1;31m---------------------------------------------------------------------------\u001b[0m",
      "\u001b[1;31mKeyboardInterrupt\u001b[0m                         Traceback (most recent call last)",
      "Cell \u001b[1;32mIn[5], line 29\u001b[0m\n\u001b[0;32m     25\u001b[0m data \u001b[38;5;241m=\u001b[39m json\u001b[38;5;241m.\u001b[39mload(\u001b[38;5;28mopen\u001b[39m(json_path, encoding\u001b[38;5;241m=\u001b[39m\u001b[38;5;124m\"\u001b[39m\u001b[38;5;124mutf8\u001b[39m\u001b[38;5;124m\"\u001b[39m))\n\u001b[0;32m     27\u001b[0m buggy \u001b[38;5;241m=\u001b[39m \u001b[38;5;28;01mFalse\u001b[39;00m\n\u001b[1;32m---> 29\u001b[0m \u001b[38;5;28;01mfor\u001b[39;00m index, (change_count, is_buggy) \u001b[38;5;129;01min\u001b[39;00m \u001b[38;5;28menumerate\u001b[39m(\u001b[38;5;28;43mzip\u001b[39;49m\u001b[43m(\u001b[49m\u001b[43mchange_list\u001b[49m\u001b[43m,\u001b[49m\u001b[43m \u001b[49m\u001b[43mhistory\u001b[49m\u001b[43m)\u001b[49m):\n\u001b[0;32m     30\u001b[0m     \u001b[38;5;28;01mif\u001b[39;00m is_buggy \u001b[38;5;241m==\u001b[39m \u001b[38;5;241m1\u001b[39m \u001b[38;5;129;01mand\u001b[39;00m change_count \u001b[38;5;241m>\u001b[39m \u001b[38;5;241m1\u001b[39m:\n\u001b[0;32m     31\u001b[0m         \u001b[38;5;28mhash\u001b[39m \u001b[38;5;241m=\u001b[39m data[\u001b[38;5;124m\"\u001b[39m\u001b[38;5;124mchangeHistory\u001b[39m\u001b[38;5;124m\"\u001b[39m][index]\n",
      "\u001b[1;31mKeyboardInterrupt\u001b[0m: "
     ]
    }
   ],
   "source": [
    "import time\n",
    "\n",
    "\n",
    "untangler = Untangler(model_name=\"openai\")\n",
    "untangler.change_model(\"gpt-4o\")\n",
    "\n",
    "csv_files = glob.glob(\"./data/Processed/*.csv\")\n",
    "for csv_file in tqdm(csv_files):\n",
    "    df = pd.read_csv(csv_file,delimiter=\"\\t\")\n",
    "    project_name = os.path.basename(csv_file).replace(\".csv\",\"\")\n",
    "\n",
    "    rows = []\n",
    "    for _, row in tqdm(df.iterrows()):\n",
    "        row = row.to_dict()\n",
    "        history = parse_hash_delimited_string(row[\"Buggycommiit\"])\n",
    "        change_list = parse_hash_delimited_string(row[\"TangledWMoveandFileRename\"])\n",
    "        if row[\"Age\"] < (365*2):\n",
    "            continue\n",
    "        if sum(history) >= 1 and any(t > 1 for t in [a * b for a, b in zip(change_list, history)]):\n",
    "            row[\"Decision\"] = \"Buggy\"\n",
    "            change_list.reverse()\n",
    "            history.reverse()\n",
    "            \n",
    "            json_path = os.path.join(\"./data/source-methods/\", project_name, row[\"file\"])\n",
    "            data = json.load(open(json_path, encoding=\"utf8\"))\n",
    "\n",
    "            buggy = False\n",
    "\n",
    "            for index, (change_count, is_buggy) in enumerate(zip(change_list, history)):\n",
    "                if is_buggy == 1 and change_count > 1:\n",
    "                    hash = data[\"changeHistory\"][index]\n",
    "                    \n",
    "                    commit_data = data[\"changeHistoryDetails\"][hash]\n",
    "                    change_data = commit_data[\"subchanges\"][0] if \"subchanges\" in commit_data.keys() else commit_data\n",
    "\n",
    "                    #untangler.prepare_prompt(change_data[\"commitMessage\"], change_data[\"diff\"])\n",
    "\n",
    "                    error = True\n",
    "                    while error:\n",
    "                        try:\n",
    "                            result = \"a\"#untangler.detect()\n",
    "                            error = False\n",
    "                        except Exception as e:\n",
    "                            error = True\n",
    "                            print(f\"Error - {e}.\\nRetrying in 10s\")\n",
    "                            time.sleep(10)\n",
    "                    if result == \"Buggy\":\n",
    "                        buggy = True\n",
    "                        break\n",
    "                elif is_buggy == 1 and change_count == 1:\n",
    "                    buggy = True\n",
    "                    break\n",
    "                    \n",
    "            if buggy:\n",
    "                row[\"Detection\"] = \"Buggy\"\n",
    "            else:\n",
    "                row[\"Detection\"] = \"NotBuggy\"\n",
    "            row[\"result\"] = result\n",
    "        elif sum(history) >= 1:\n",
    "            row[\"Decision\"] = \"Buggy\"\n",
    "            row[\"Detection\"] = \"Buggy\"\n",
    "        else:\n",
    "            row[\"Decision\"] = \"NotBuggy\"\n",
    "            row[\"Detection\"] = \"NotBuggy\"\n",
    "        rows.append(row)\n",
    "    df = pd.DataFrame(rows)\n",
    "    df = df.drop([\"Unnamed: 26\"], axis=1)\n",
    "    df.to_csv(f\"./data/Cleaned/{project_name}.csv\", index=False)"
   ]
  },
  {
   "cell_type": "code",
   "execution_count": null,
   "metadata": {},
   "outputs": [],
   "source": []
  }
 ],
 "metadata": {
  "kernelspec": {
   "display_name": ".venv",
   "language": "python",
   "name": "python3"
  },
  "language_info": {
   "codemirror_mode": {
    "name": "ipython",
    "version": 3
   },
   "file_extension": ".py",
   "mimetype": "text/x-python",
   "name": "python",
   "nbconvert_exporter": "python",
   "pygments_lexer": "ipython3",
   "version": "3.12.7"
  }
 },
 "nbformat": 4,
 "nbformat_minor": 2
}
