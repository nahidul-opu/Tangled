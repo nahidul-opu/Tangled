{
 "cells": [
  {
   "cell_type": "code",
   "execution_count": 2,
   "metadata": {},
   "outputs": [],
   "source": [
    "%load_ext autoreload\n",
    "%autoreload 2\n",
    "\n",
    "import json\n",
    "import pandas as pd\n",
    "import numpy as np\n",
    "from sklearn.metrics import accuracy_score, classification_report\n",
    "\n",
    "\n",
    "from modules.Untangler import Untangler\n",
    "random_seed = 50"
   ]
  },
  {
   "cell_type": "code",
   "execution_count": 41,
   "metadata": {},
   "outputs": [],
   "source": [
    "df1 = pd.read_csv(\"./data/GoldSet.csv\")\n",
    "df1[\"Diff\"] = df1[\"Diff\"].apply(lambda x: x.replace(\"\\\\ No newline at end of file\",\"\").strip())\n",
    "\n",
    "df2 = pd.read_csv(\"./data/GoldSet_TrueBuggyMethods.csv\")\n",
    "df2[\"Diff\"] = df2[\"Diff\"].apply(lambda x: x.replace(\"\\\\ No newline at end of file\",\"\").strip())\n",
    "\n",
    "df3 = pd.read_csv(\"./data/GoldSet_TrueNotBuggyMethods.csv\")\n",
    "df3[\"Diff\"] = df3[\"Diff\"].apply(lambda x: x.replace(\"\\\\ No newline at end of file\",\"\").strip())"
   ]
  },
  {
   "cell_type": "code",
   "execution_count": 42,
   "metadata": {},
   "outputs": [],
   "source": [
    "df = pd.concat([df1, df2, df3], ignore_index=True)"
   ]
  },
  {
   "cell_type": "markdown",
   "metadata": {},
   "source": [
    "# gpt-4o-mini"
   ]
  },
  {
   "cell_type": "code",
   "execution_count": 62,
   "metadata": {},
   "outputs": [
    {
     "name": "stderr",
     "output_type": "stream",
     "text": [
      "1778it [1:45:10,  3.55s/it]\n"
     ]
    }
   ],
   "source": [
    "untangler = Untangler(model_name=\"openai\")\n",
    "result = untangler.batch_detect(df, iteratively=True)\n",
    "result.to_csv(\"./Results/openai_result.csv\", index = False)"
   ]
  },
  {
   "cell_type": "code",
   "execution_count": 5,
   "metadata": {},
   "outputs": [
    {
     "name": "stdout",
     "output_type": "stream",
     "text": [
      "              precision    recall  f1-score   support\n",
      "\n",
      "       Buggy       0.77      0.91      0.84       901\n",
      "    NotBuggy       0.89      0.73      0.80       877\n",
      "\n",
      "    accuracy                           0.82      1778\n",
      "   macro avg       0.83      0.82      0.82      1778\n",
      "weighted avg       0.83      0.82      0.82      1778\n",
      "\n"
     ]
    }
   ],
   "source": [
    "result = pd.read_csv(\"./Results/openai_result.csv\")\n",
    "print(classification_report(result[\"Decision\"], result[\"Detection\"]))"
   ]
  },
  {
   "cell_type": "markdown",
   "metadata": {},
   "source": [
    "# gemini-2.0-flash"
   ]
  },
  {
   "cell_type": "code",
   "execution_count": null,
   "metadata": {},
   "outputs": [],
   "source": [
    "untangler = Untangler(model_name=\"gemini\")\n",
    "result = untangler.batch_detect(df)\n",
    "result.to_csv(\"./Results/gemini_result.csv\", index = False)"
   ]
  },
  {
   "cell_type": "code",
   "execution_count": 11,
   "metadata": {},
   "outputs": [
    {
     "name": "stdout",
     "output_type": "stream",
     "text": [
      "              precision    recall  f1-score   support\n",
      "\n",
      "       Buggy       0.83      0.94      0.88       900\n",
      "    NotBuggy       0.93      0.80      0.86       876\n",
      "\n",
      "    accuracy                           0.87      1776\n",
      "   macro avg       0.88      0.87      0.87      1776\n",
      "weighted avg       0.88      0.87      0.87      1776\n",
      "\n"
     ]
    }
   ],
   "source": [
    "result = pd.read_csv(\"./Results/gemini_result.csv\")\n",
    "result[\"Detection\"] = result[\"Detection\"].apply(lambda x: x.strip())\n",
    "result = result[result[\"Detection\"].isin(['Buggy', 'NotBuggy'])]\n",
    "result[\"Detection\"].unique()\n",
    "print(classification_report(result[\"Decision\"], result[\"Detection\"]))"
   ]
  },
  {
   "cell_type": "markdown",
   "metadata": {},
   "source": [
    "# "
   ]
  },
  {
   "cell_type": "code",
   "execution_count": null,
   "metadata": {},
   "outputs": [],
   "source": []
  }
 ],
 "metadata": {
  "kernelspec": {
   "display_name": ".venv",
   "language": "python",
   "name": "python3"
  },
  "language_info": {
   "codemirror_mode": {
    "name": "ipython",
    "version": 3
   },
   "file_extension": ".py",
   "mimetype": "text/x-python",
   "name": "python",
   "nbconvert_exporter": "python",
   "pygments_lexer": "ipython3",
   "version": "3.12.7"
  }
 },
 "nbformat": 4,
 "nbformat_minor": 2
}
