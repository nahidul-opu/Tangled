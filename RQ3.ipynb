{
 "cells": [
  {
   "cell_type": "markdown",
   "metadata": {},
   "source": [
    "# RQ3: Detect using custom DL models"
   ]
  },
  {
   "cell_type": "code",
   "execution_count": 102,
   "metadata": {},
   "outputs": [],
   "source": [
    "from google import genai\n",
    "from google.genai import types\n",
    "import os\n",
    "import numpy as np\n",
    "import pandas as pd\n",
    "import configparser\n",
    "from tqdm import tqdm\n",
    "import ast\n",
    "import time"
   ]
  },
  {
   "cell_type": "code",
   "execution_count": 91,
   "metadata": {},
   "outputs": [],
   "source": [
    "class GeminiEmbeddingGenerator:\n",
    "    def __init__(self, model_name, embedding_type):\n",
    "        self.model_name = model_name\n",
    "        self.embedding_type = embedding_type\n",
    "        self.__setup()\n",
    "\n",
    "    def __setup(self):\n",
    "        config = configparser.ConfigParser()\n",
    "        config.read(\".config\")\n",
    "        GEMINI_API_KEY = config[\"API_KEYS\"][\"GEMINI_API_KEY\"]\n",
    "\n",
    "        self.__client = genai.Client(api_key=GEMINI_API_KEY)\n",
    "\n",
    "    def get_embeddings(self, text):\n",
    "        #return np.arange(1,768,1).tolist()\n",
    "        result = self.__client.models.embed_content(\n",
    "                        model=self.model_name ,\n",
    "                        contents=text,\n",
    "                        config=types.EmbedContentConfig(task_type=self.embedding_type)\n",
    "                )\n",
    "        return result.embeddings[0].values"
   ]
  },
  {
   "cell_type": "markdown",
   "metadata": {},
   "source": [
    "## Simple classificaton task using LLM embeddings"
   ]
  },
  {
   "cell_type": "code",
   "execution_count": 92,
   "metadata": {},
   "outputs": [],
   "source": [
    "os.makedirs(\"./Results/RQ3/Model1\", exist_ok=True)"
   ]
  },
  {
   "cell_type": "code",
   "execution_count": 93,
   "metadata": {},
   "outputs": [],
   "source": [
    "df = pd.read_csv(\"./data/Complete_GoldSet.csv\")\n",
    "df['text'] = \"CommitMessage: \" + df['CommitMessage'] + \"\\nDiff:\\n\" +  df['Diff']"
   ]
  },
  {
   "cell_type": "code",
   "execution_count": null,
   "metadata": {},
   "outputs": [],
   "source": [
    "egen = GeminiEmbeddingGenerator(\"text-embedding-004\", \"CLASSIFICATION\")\n",
    "id = []\n",
    "X = []\n",
    "Y = []"
   ]
  },
  {
   "cell_type": "code",
   "execution_count": 104,
   "metadata": {},
   "outputs": [
    {
     "name": "stderr",
     "output_type": "stream",
     "text": [
      "1776it [15:24,  1.92it/s]\n"
     ]
    }
   ],
   "source": [
    "for _, row in tqdm(df.iterrows()):\n",
    "    if row[\"CommitHash\"] in id:\n",
    "        continue\n",
    "    emb = egen.get_embeddings(row['text'])\n",
    "    id.append(row[\"CommitHash\"])\n",
    "    X.append(emb)\n",
    "    Y.append(row[\"Decision\"])\n",
    "    time.sleep(0.25)"
   ]
  },
  {
   "cell_type": "code",
   "execution_count": 105,
   "metadata": {},
   "outputs": [],
   "source": [
    "df_emb = pd.DataFrame(data={\"Hash\": id, \"Embeddings\": X, \"Label\": Y})\n",
    "df_emb['Embeddings'] = df_emb['Embeddings'].astype('object')\n",
    "df_emb.to_csv(\"./data/Embeddings/MsgDiff.csv\", index=False)\n",
    "\n",
    "arr_x = np.array(X)\n",
    "np.save(\"./data/Embeddings/MsgDiff.npy\", arr_x)"
   ]
  },
  {
   "cell_type": "code",
   "execution_count": null,
   "metadata": {},
   "outputs": [],
   "source": [
    "df_emb = pd.read_csv(\"./data/Embeddings/MsgDiff.csv\")\n",
    "df_emb[\"Embeddings\"] = df_emb[\"Embeddings\"].apply(ast.literal_eval)"
   ]
  },
  {
   "cell_type": "code",
   "execution_count": null,
   "metadata": {},
   "outputs": [],
   "source": []
  },
  {
   "cell_type": "code",
   "execution_count": null,
   "metadata": {},
   "outputs": [],
   "source": []
  },
  {
   "cell_type": "code",
   "execution_count": 126,
   "metadata": {},
   "outputs": [],
   "source": [
    "import glob\n",
    "for csv in glob.glob(\"./Results/**/*.csv\", recursive=True):\n",
    "    df = pd.read_csv(csv)\n",
    "    df_unique = df.drop_duplicates(subset=[\"Diff\"], keep=\"first\")\n",
    "    df_unique.to_csv(csv, index=False)"
   ]
  }
 ],
 "metadata": {
  "kernelspec": {
   "display_name": ".venv",
   "language": "python",
   "name": "python3"
  },
  "language_info": {
   "codemirror_mode": {
    "name": "ipython",
    "version": 3
   },
   "file_extension": ".py",
   "mimetype": "text/x-python",
   "name": "python",
   "nbconvert_exporter": "python",
   "pygments_lexer": "ipython3",
   "version": "3.12.7"
  }
 },
 "nbformat": 4,
 "nbformat_minor": 2
}
