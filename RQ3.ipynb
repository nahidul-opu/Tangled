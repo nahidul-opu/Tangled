{
 "cells": [
  {
   "cell_type": "markdown",
   "metadata": {},
   "source": [
    "# RQ3: Detect using custom DL models"
   ]
  },
  {
   "cell_type": "code",
   "execution_count": 1,
   "metadata": {},
   "outputs": [],
   "source": [
    "from google import genai\n",
    "from google.genai import types\n",
    "import os\n",
    "import numpy as np\n",
    "import pandas as pd\n",
    "import configparser\n",
    "from tqdm import tqdm\n",
    "import ast\n",
    "import time"
   ]
  },
  {
   "cell_type": "code",
   "execution_count": 2,
   "metadata": {},
   "outputs": [],
   "source": [
    "class GeminiEmbeddingGenerator:\n",
    "    def __init__(self, model_name, embedding_type):\n",
    "        self.model_name = model_name\n",
    "        self.embedding_type = embedding_type\n",
    "        self.__setup()\n",
    "\n",
    "    def __setup(self):\n",
    "        config = configparser.ConfigParser()\n",
    "        config.read(\".config\")\n",
    "        GEMINI_API_KEY = config[\"API_KEYS\"][\"GEMINI_API_KEY\"]\n",
    "\n",
    "        self.__client = genai.Client(api_key=GEMINI_API_KEY)\n",
    "\n",
    "    def get_embeddings(self, text):\n",
    "        #return np.arange(1,768,1).tolist()\n",
    "        result = self.__client.models.embed_content(\n",
    "                        model=self.model_name ,\n",
    "                        contents=text,\n",
    "                        config=types.EmbedContentConfig(task_type=self.embedding_type)\n",
    "                )\n",
    "        return result.embeddings[0].values"
   ]
  },
  {
   "cell_type": "markdown",
   "metadata": {},
   "source": [
    "## Simple classificaton task using LLM embeddings"
   ]
  },
  {
   "cell_type": "code",
   "execution_count": 3,
   "metadata": {},
   "outputs": [],
   "source": [
    "os.makedirs(\"./Results/RQ3/Model1\", exist_ok=True)"
   ]
  },
  {
   "cell_type": "code",
   "execution_count": 4,
   "metadata": {},
   "outputs": [],
   "source": [
    "df = pd.read_csv(\"./data/Complete_GoldSet.csv\")\n",
    "df['text'] = \"CommitMessage: \" + df['CommitMessage'] + \"\\nDiff:\\n\" +  df['Diff']"
   ]
  },
  {
   "cell_type": "code",
   "execution_count": 6,
   "metadata": {},
   "outputs": [],
   "source": [
    "egen = GeminiEmbeddingGenerator(\"text-embedding-004\", \"CLASSIFICATION\")\n",
    "id = []\n",
    "X = []\n",
    "Y = []"
   ]
  },
  {
   "cell_type": "code",
   "execution_count": 7,
   "metadata": {},
   "outputs": [
    {
     "name": "stderr",
     "output_type": "stream",
     "text": [
      "1764it [16:59,  1.73it/s]\n"
     ]
    }
   ],
   "source": [
    "for _, row in tqdm(df.iterrows()):\n",
    "    emb = egen.get_embeddings(row['text'])\n",
    "    id.append(row[\"CommitHash\"])\n",
    "    X.append(emb)\n",
    "    Y.append(row[\"Decision\"])\n",
    "    time.sleep(0.25)"
   ]
  },
  {
   "cell_type": "code",
   "execution_count": 8,
   "metadata": {},
   "outputs": [],
   "source": [
    "df_emb = pd.DataFrame(data={\"Hash\": id, \"Embeddings\": X, \"Label\": Y})\n",
    "df_emb['Embeddings'] = df_emb['Embeddings'].astype('object')\n",
    "df_emb.to_csv(\"./data/Embeddings/MsgDiff.csv\", index=False)\n",
    "\n",
    "arr_x = np.array(X)\n",
    "np.save(\"./data/Embeddings/MsgDiff.npy\", arr_x)"
   ]
  },
  {
   "cell_type": "code",
   "execution_count": null,
   "metadata": {},
   "outputs": [],
   "source": [
    "df_emb = pd.read_csv(\"./data/Embeddings/MsgDiff.csv\")\n",
    "df_emb[\"Embeddings\"] = df_emb[\"Embeddings\"].apply(ast.literal_eval)"
   ]
  },
  {
   "cell_type": "markdown",
   "metadata": {},
   "source": [
    "## Multi-step Classification"
   ]
  },
  {
   "cell_type": "code",
   "execution_count": null,
   "metadata": {},
   "outputs": [],
   "source": [
    "hashes = []\n",
    "msg_cls_emb = []\n",
    "msg_sim_emb = []\n",
    "diff_sim_emb = []\n",
    "labels = []\n",
    "egen_cls = GeminiEmbeddingGenerator(\"text-embedding-004\", \"CLASSIFICATION\")\n",
    "egen_sim = GeminiEmbeddingGenerator(\"text-embedding-004\", \"SEMANTIC_SIMILARITY\")"
   ]
  },
  {
   "cell_type": "code",
   "execution_count": null,
   "metadata": {},
   "outputs": [],
   "source": [
    "for _, row in tqdm(df.iterrows()):\n",
    "    msg_cls_emb.append(egen_cls.get_embeddings(row['CommitMessage']))\n",
    "\n",
    "    msg_sim_emb.append(egen_sim.get_embeddings(row['CommitMessage']))\n",
    "    diff_sim_emb.append(egen_sim.get_embeddings(row['Diff']))\n",
    "\n",
    "    hashes.append(row[\"CommitHash\"])\n",
    "    labels.append(row[\"Decision\"])\n",
    "    time.sleep(0.3)"
   ]
  },
  {
   "cell_type": "code",
   "execution_count": null,
   "metadata": {},
   "outputs": [],
   "source": [
    "df_emb = pd.DataFrame(data={\"Hash\": hashes, \"Msg_Cls_Embeddings\": msg_cls_emb, \"Msg_Sim_Embeddings\": msg_sim_emb, \"Diff_Sim_Embeddings\": diff_sim_emb, \"Label\": labels})\n",
    "df_emb['Embeddings'] = df_emb['Embeddings'].astype('object')\n",
    "df_emb.to_csv(\"./data/Embeddings/MsgCls_MsgDiffSim.csv\", index=False)\n",
    "\n",
    "arr_x = np.array(msg_cls_emb)\n",
    "np.save(\"./data/Embeddings/MsgCls.npy\", arr_x)\n",
    "arr_x = np.array(msg_sim_emb)\n",
    "np.save(\"./data/Embeddings/MsgSim.npy\", arr_x)\n",
    "arr_x = np.array(diff_sim_emb)\n",
    "np.save(\"./data/Embeddings/DiffSim.npy\", arr_x)"
   ]
  }
 ],
 "metadata": {
  "kernelspec": {
   "display_name": ".venv",
   "language": "python",
   "name": "python3"
  },
  "language_info": {
   "codemirror_mode": {
    "name": "ipython",
    "version": 3
   },
   "file_extension": ".py",
   "mimetype": "text/x-python",
   "name": "python",
   "nbconvert_exporter": "python",
   "pygments_lexer": "ipython3",
   "version": "3.12.7"
  }
 },
 "nbformat": 4,
 "nbformat_minor": 2
}
