{
 "cells": [
  {
   "cell_type": "markdown",
   "metadata": {},
   "source": [
    "# RQ3: Detect using custom DL models"
   ]
  },
  {
   "cell_type": "code",
   "execution_count": 30,
   "metadata": {},
   "outputs": [],
   "source": [
    "from google import genai\n",
    "from google.genai import types\n",
    "import os\n",
    "import numpy as np\n",
    "import pandas as pd\n",
    "import configparser\n",
    "from tqdm import tqdm\n",
    "import ast\n",
    "import time\n",
    "from vertexai.preview import tokenization\n",
    "\n",
    "random_seed = 42"
   ]
  },
  {
   "cell_type": "code",
   "execution_count": 12,
   "metadata": {},
   "outputs": [],
   "source": [
    "class GeminiEmbeddingGenerator:\n",
    "    def __init__(self, model_name, embedding_type):\n",
    "        self.model_name = model_name\n",
    "        self.embedding_type = embedding_type\n",
    "        self.__setup()\n",
    "\n",
    "    def __setup(self):\n",
    "        config = configparser.ConfigParser()\n",
    "        config.read(\".config\")\n",
    "        GEMINI_API_KEY = config[\"API_KEYS\"][\"GEMINI_API_KEY\"]\n",
    "\n",
    "        self.__client = genai.Client(api_key=GEMINI_API_KEY)\n",
    "        self.__tokenizer = tokenization.get_tokenizer_for_model(\"gemini-1.5-flash-001\")\n",
    "    \n",
    "    def get_token_count(self, text):\n",
    "        return self.__tokenizer.count_tokens(text).total_tokens \n",
    "\n",
    "    def get_embeddings(self, text):\n",
    "        #return np.arange(1,768,1).tolist()\n",
    "        result = self.__client.models.embed_content(\n",
    "                        model=self.model_name ,\n",
    "                        contents=text,\n",
    "                        config=types.EmbedContentConfig(task_type=self.embedding_type)\n",
    "                )\n",
    "        return result.embeddings[0].values"
   ]
  },
  {
   "cell_type": "markdown",
   "metadata": {},
   "source": [
    "## Simple classificaton task using LLM embeddings"
   ]
  },
  {
   "cell_type": "code",
   "execution_count": 13,
   "metadata": {},
   "outputs": [],
   "source": [
    "os.makedirs(\"./Results/RQ3/Model1\", exist_ok=True)"
   ]
  },
  {
   "cell_type": "code",
   "execution_count": 14,
   "metadata": {},
   "outputs": [],
   "source": [
    "df = pd.read_csv(\"./data/Complete_GoldSet.csv\")\n",
    "df['text'] = \"CommitMessage: \" + df['CommitMessage'] + \"\\nDiff:\\n\" +  df['Diff']"
   ]
  },
  {
   "cell_type": "code",
   "execution_count": 15,
   "metadata": {},
   "outputs": [],
   "source": [
    "egen = GeminiEmbeddingGenerator(\"text-embedding-004\", \"CLASSIFICATION\")\n",
    "id = []\n",
    "X = []\n",
    "Y = []"
   ]
  },
  {
   "cell_type": "code",
   "execution_count": 7,
   "metadata": {},
   "outputs": [
    {
     "name": "stderr",
     "output_type": "stream",
     "text": [
      "1764it [16:59,  1.73it/s]\n"
     ]
    }
   ],
   "source": [
    "for _, row in tqdm(df.iterrows()):\n",
    "    emb = egen.get_embeddings(row['text'])\n",
    "    id.append(row[\"CommitHash\"])\n",
    "    X.append(emb)\n",
    "    Y.append(row[\"Decision\"])\n",
    "    time.sleep(0.25)"
   ]
  },
  {
   "cell_type": "code",
   "execution_count": 8,
   "metadata": {},
   "outputs": [],
   "source": [
    "df_emb = pd.DataFrame(data={\"Hash\": id, \"Embeddings\": X, \"Label\": Y})\n",
    "df_emb['Embeddings'] = df_emb['Embeddings'].astype('object')\n",
    "df_emb.to_csv(\"./data/Embeddings/MsgDiff.csv\", index=False)\n",
    "\n",
    "arr_x = np.array(X)\n",
    "np.save(\"./data/Embeddings/MsgDiff.npy\", arr_x)"
   ]
  },
  {
   "cell_type": "code",
   "execution_count": 27,
   "metadata": {},
   "outputs": [],
   "source": [
    "df_emb = pd.read_csv(\"./data/Embeddings/MsgDiff.csv\")\n",
    "df_emb[\"Embeddings\"] = df_emb[\"Embeddings\"].apply(ast.literal_eval)"
   ]
  },
  {
   "cell_type": "code",
   "execution_count": 56,
   "metadata": {},
   "outputs": [
    {
     "name": "stdout",
     "output_type": "stream",
     "text": [
      "Accuracy: 0.8754\n",
      "Precision: 0.8571\n",
      "Recall: 0.9050\n",
      "F1 Score: 0.8804\n",
      "MCC Score: 0.7517\n",
      "\n",
      "Classification Report:\n",
      "               precision    recall  f1-score   support\n",
      "\n",
      "       Buggy       0.86      0.91      0.88       179\n",
      "    NotBuggy       0.90      0.84      0.87       174\n",
      "\n",
      "    accuracy                           0.88       353\n",
      "   macro avg       0.88      0.87      0.88       353\n",
      "weighted avg       0.88      0.88      0.88       353\n",
      "\n"
     ]
    },
    {
     "data": {
      "text/plain": [
       "<sklearn.metrics._plot.confusion_matrix.ConfusionMatrixDisplay at 0x226783cf620>"
      ]
     },
     "execution_count": 56,
     "metadata": {},
     "output_type": "execute_result"
    },
    {
     "data": {
      "image/png": "[encoded data removed]",
      "text/plain": [
       "<Figure size 640x480 with 2 Axes>"
      ]
     },
     "metadata": {},
     "output_type": "display_data"
    }
   ],
   "source": [
    "import numpy as np\n",
    "import pandas as pd\n",
    "import matplotlib.pyplot as plt\n",
    "from sklearn.model_selection import train_test_split\n",
    "from sklearn.ensemble import RandomForestClassifier\n",
    "from sklearn.datasets import load_iris\n",
    "from sklearn.metrics import ConfusionMatrixDisplay, accuracy_score, matthews_corrcoef, precision_score, recall_score, f1_score, confusion_matrix, classification_report\n",
    "from sklearn.svm import SVC\n",
    "\n",
    "# Load dataset\n",
    "\n",
    "X = df_emb['Embeddings']\n",
    "X = np.array([np.array(lst) for lst in X])\n",
    "\n",
    "y = df_emb['Label'].values\n",
    "\n",
    "# Train-test split (80-20)\n",
    "X_train, X_test, y_train, y_test = train_test_split(X, y, test_size=0.2, random_state=random_seed, stratify=y)\n",
    "\n",
    "# Initialize classifier\n",
    "model = SVC(random_state=random_seed)\n",
    "\n",
    "# Train the model\n",
    "model.fit(X_train, y_train)\n",
    "\n",
    "# Make predictions\n",
    "y_pred = model.predict(X_test)\n",
    "\n",
    "# Calculate metrics\n",
    "accuracy = accuracy_score(y_test, y_pred)\n",
    "precision = precision_score(y_test, y_pred, pos_label=\"Buggy\")\n",
    "recall = recall_score(y_test, y_pred, pos_label=\"Buggy\")\n",
    "f1 = f1_score(y_test, y_pred, pos_label=\"Buggy\")\n",
    "mcc = matthews_corrcoef(y_test, y_pred)\n",
    "\n",
    "# Print metrics\n",
    "print(f\"Accuracy: {accuracy:.4f}\")\n",
    "print(f\"Precision: {precision:.4f}\")\n",
    "print(f\"Recall: {recall:.4f}\")\n",
    "print(f\"F1 Score: {f1:.4f}\")\n",
    "print(f\"MCC Score: {mcc:.4f}\")\n",
    "\n",
    "# Display classification report\n",
    "print(\"\\nClassification Report:\\n\", classification_report(y_test, y_pred))\n",
    "\n",
    "# Confusion Matrix\n",
    "conf_matrix = confusion_matrix(y_test, y_pred)\n",
    "ConfusionMatrixDisplay(conf_matrix).plot()\n"
   ]
  },
  {
   "cell_type": "code",
   "execution_count": 57,
   "metadata": {},
   "outputs": [
    {
     "name": "stdout",
     "output_type": "stream",
     "text": [
      "accuracy: 0.8934 ± 0.0284\n",
      "precision_macro: 0.8935 ± 0.0273\n",
      "recall_macro: 0.8933 ± 0.0284\n",
      "f1_macro: 0.8927 ± 0.0282\n"
     ]
    }
   ],
   "source": [
    "import numpy as np\n",
    "import pandas as pd\n",
    "from sklearn.model_selection import cross_validate, KFold\n",
    "from sklearn.metrics import make_scorer, accuracy_score, precision_score, recall_score, f1_score\n",
    "from sklearn.ensemble import RandomForestClassifier\n",
    "from sklearn.datasets import load_iris\n",
    "from sklearn.model_selection import train_test_split\n",
    "\n",
    "X = df_emb['Embeddings']\n",
    "X = np.array([np.array(lst) for lst in X])\n",
    "\n",
    "y = df_emb['Label'].values\n",
    "\n",
    "# Define K-Fold cross-validation\n",
    "kf = KFold(n_splits=10, shuffle=True, random_state=random_seed)\n",
    "\n",
    "# Initialize classifier\n",
    "model = SVC(random_state=random_seed)\n",
    "\n",
    "scoring = ['accuracy', 'precision_macro', 'recall_macro', 'f1_macro']\n",
    "\n",
    "# Perform cross-validation\n",
    "cv_results = cross_validate(model, X, y, cv=kf, scoring=scoring, return_train_score=False)\n",
    "\n",
    "# Print the results\n",
    "for metric in scoring:\n",
    "    metric_values = cv_results[f\"test_{metric}\"]\n",
    "    print(f\"{metric}: {metric_values.mean():.4f} ± {metric_values.std():.4f}\")"
   ]
  },
  {
   "cell_type": "markdown",
   "metadata": {},
   "source": [
    "## Multi-step Classification"
   ]
  },
  {
   "cell_type": "code",
   "execution_count": 17,
   "metadata": {},
   "outputs": [
    {
     "name": "stderr",
     "output_type": "stream",
     "text": [
      "1764it [52:02,  1.77s/it]\n"
     ]
    }
   ],
   "source": [
    "hashes = []\n",
    "msg_cls_emb = []\n",
    "msg_sim_emb = []\n",
    "diff_sim_emb = []\n",
    "labels = []\n",
    "egen_cls = GeminiEmbeddingGenerator(\"text-embedding-004\", \"CLASSIFICATION\")\n",
    "egen_sim = GeminiEmbeddingGenerator(\"text-embedding-004\", \"SEMANTIC_SIMILARITY\")\n",
    "\n",
    "for _, row in tqdm(df.iterrows()):\n",
    "    try:\n",
    "        msg_cls_emb.append(egen_cls.get_embeddings(row['CommitMessage']))\n",
    "\n",
    "        msg_sim_emb.append(egen_sim.get_embeddings(row['CommitMessage']))\n",
    "        diff_sim_emb.append(egen_sim.get_embeddings(row['Diff']))\n",
    "\n",
    "        hashes.append(row[\"CommitHash\"])\n",
    "        labels.append(row[\"Decision\"])\n",
    "        time.sleep(0.5)\n",
    "    except Exception as e:\n",
    "        print(e)\n",
    "        time.sleep(30)"
   ]
  },
  {
   "cell_type": "code",
   "execution_count": 18,
   "metadata": {},
   "outputs": [],
   "source": [
    "df_emb = pd.DataFrame(data={\"Hash\": hashes, \"Msg_Cls_Embeddings\": msg_cls_emb, \"Msg_Sim_Embeddings\": msg_sim_emb, \"Diff_Sim_Embeddings\": diff_sim_emb, \"Label\": labels})\n",
    "df_emb.to_csv(\"./data/Embeddings/MsgCls_MsgDiffSim.csv\", index=False)\n",
    "\n",
    "arr_x = np.array(msg_cls_emb)\n",
    "np.save(\"./data/Embeddings/MsgCls.npy\", arr_x)\n",
    "arr_x = np.array(msg_sim_emb)\n",
    "np.save(\"./data/Embeddings/MsgSim.npy\", arr_x)\n",
    "arr_x = np.array(diff_sim_emb)\n",
    "np.save(\"./data/Embeddings/DiffSim.npy\", arr_x)"
   ]
  },
  {
   "cell_type": "code",
   "execution_count": 58,
   "metadata": {},
   "outputs": [],
   "source": [
    "df_emb = pd.read_csv(\"./data/Embeddings/MsgCls_MsgDiffSim.csv\")\n",
    "df_emb[\"Msg_Cls_Embeddings\"] = df_emb[\"Msg_Cls_Embeddings\"].apply(ast.literal_eval)\n",
    "df_emb[\"Msg_Sim_Embeddings\"] = df_emb[\"Msg_Sim_Embeddings\"].apply(ast.literal_eval)\n",
    "df_emb[\"Diff_Sim_Embeddings\"] = df_emb[\"Diff_Sim_Embeddings\"].apply(ast.literal_eval)"
   ]
  },
  {
   "cell_type": "code",
   "execution_count": 115,
   "metadata": {},
   "outputs": [
    {
     "ename": "ModuleNotFoundError",
     "evalue": "No module named 'tensorflow_addons'",
     "output_type": "error",
     "traceback": [
      "\u001b[1;31m---------------------------------------------------------------------------\u001b[0m",
      "\u001b[1;31mModuleNotFoundError\u001b[0m                       Traceback (most recent call last)",
      "Cell \u001b[1;32mIn[115], line 2\u001b[0m\n\u001b[0;32m      1\u001b[0m \u001b[38;5;28;01mimport\u001b[39;00m\u001b[38;5;250m \u001b[39m\u001b[38;5;21;01mtensorflow\u001b[39;00m\u001b[38;5;250m \u001b[39m\u001b[38;5;28;01mas\u001b[39;00m\u001b[38;5;250m \u001b[39m\u001b[38;5;21;01mtf\u001b[39;00m\n\u001b[1;32m----> 2\u001b[0m \u001b[38;5;28;01mimport\u001b[39;00m\u001b[38;5;250m \u001b[39m\u001b[38;5;21;01mtensorflow_addons\u001b[39;00m\u001b[38;5;250m \u001b[39m\u001b[38;5;28;01mas\u001b[39;00m\u001b[38;5;250m \u001b[39m\u001b[38;5;21;01mtfa\u001b[39;00m\n\u001b[0;32m      3\u001b[0m \u001b[38;5;28;01mfrom\u001b[39;00m\u001b[38;5;250m \u001b[39m\u001b[38;5;21;01mtensorflow\u001b[39;00m\u001b[38;5;21;01m.\u001b[39;00m\u001b[38;5;21;01mkeras\u001b[39;00m\u001b[38;5;250m \u001b[39m\u001b[38;5;28;01mimport\u001b[39;00m layers, Model, Input\n\u001b[0;32m      4\u001b[0m \u001b[38;5;28;01mimport\u001b[39;00m\u001b[38;5;250m \u001b[39m\u001b[38;5;21;01mnumpy\u001b[39;00m\u001b[38;5;250m \u001b[39m\u001b[38;5;28;01mas\u001b[39;00m\u001b[38;5;250m \u001b[39m\u001b[38;5;21;01mnp\u001b[39;00m\n",
      "\u001b[1;31mModuleNotFoundError\u001b[0m: No module named 'tensorflow_addons'"
     ]
    }
   ],
   "source": [
    "import tensorflow as tf\n",
    "import tensorflow_addons as tfa\n",
    "from tensorflow.keras import layers, Model, Input\n",
    "import numpy as np\n",
    "\n",
    "input_shape = (768,)\n",
    "\n",
    "# Commit Message Classification Model\n",
    "input_a = Input(shape=input_shape, name=\"input_a\")\n",
    "x_a = layers.Dense(512, activation='relu')(input_a)\n",
    "x_a = layers.Dense(64, activation='relu')(x_a)\n",
    "x_a = layers.Dense(32, activation='relu')(x_a)\n",
    "class_output = layers.Dense(1, activation='softmax', name=\"class_output\")(x_a)\n",
    "\n",
    "\n",
    "# Commit Message and Diff Similarity Model\n",
    "input_b = Input(shape=input_shape, name=\"input_b\")\n",
    "input_c = Input(shape=input_shape, name=\"input_c\")\n",
    "\n",
    "def shared_siamese_network(input_layer):\n",
    "    x = layers.Dense(64, activation='relu')(input_layer)\n",
    "    x = layers.Dense(32, activation='relu')(x)\n",
    "    output = layers.Dense(16, activation='linear')(x) \n",
    "    return output\n",
    "\n",
    "embedding_b = shared_siamese_network(input_b)\n",
    "embedding_c = shared_siamese_network(input_c)\n",
    "\n",
    "def cosine_similarity(vectors):\n",
    "    x, y = vectors\n",
    "    x = tf.nn.l2_normalize(x, axis=1)  # Normalize vectors\n",
    "    y = tf.nn.l2_normalize(y, axis=1)\n",
    "    return tf.reduce_sum(x * y, axis=1, keepdims=True)  # Compute dot product (cosine similarity)\n",
    "\n",
    "similarity_output = layers.Lambda(cosine_similarity, name=\"similarity_output\")([embedding_b, embedding_c])\n",
    "\n",
    "# Final Output\n",
    "final_output = layers.Multiply()([class_output, similarity_output])\n",
    "final_output = layers.Dense(1, activation='softmax', name=\"final_output\")(final_output)\n",
    "\n",
    "\n",
    "# Model\n",
    "model = Model(inputs=[input_a, input_b, input_c], outputs=[class_output, similarity_output, final_output])\n",
    "\n",
    "\n",
    "# Optimizers\n",
    "optimizer_classification = tf.keras.optimizers.Adam(learning_rate=0.001)\n",
    "optimizer_similarity = tf.keras.optimizers.SGD(learning_rate=0.01)\n",
    "\n",
    "optimizers_and_layers = [(tf.keras.optimizers.Adam(learning_rate=0.001), \"class_output\"),\n",
    "                         (tf.keras.optimizers.SGD(learning_rate=0.01), \"similarity_output\"),\n",
    "                         (tf.keras.optimizers.Adam(learning_rate=0.001), \"final_output\")]\n",
    "\n",
    "# Losses\n",
    "losses = {\n",
    "    \"class_output\": \"binary_crossentropy\",\n",
    "    \"similarity_output\": \"mse\",\n",
    "    \"final_output\": \"binary_crossentropy\"\n",
    "}\n",
    "\n",
    "# Metrics\n",
    "metrics = {\n",
    "    \"class_output\": \"accuracy\",\n",
    "    \"similarity_output\": \"mae\",\n",
    "    \"final_output\": \"accuracy\"\n",
    "}\n",
    "\n",
    "# # Compile for classification\n",
    "# model.compile(optimizer=optimizer_classification, loss={\"class_output\": \"categorical_crossentropy\"}, metrics={\"class_output\": \"accuracy\"})\n",
    "\n",
    "# # Compile for similarity\n",
    "# model.compile(optimizer=optimizer_similarity, loss={\"similarity_output\": \"mse\"}, metrics={\"similarity_output\": \"mae\"})\n",
    "\n",
    "# # Compile for final output\n",
    "# model.compile(optimizer=optimizer_classification, loss={\"final_output\": \"binary_crossentropy\"}, metrics={\"final_output\": \"accuracy\"})\n",
    "optimizer = tfa.optimizers.MultiOptimizer(optimizers_and_layers)\n",
    "model.compile(\n",
    "    optimizer=optimizer,\n",
    "    loss=losses,\n",
    "    metrics=metrics\n",
    ")\n",
    "# **Model Summary**\n",
    "model.summary()\n"
   ]
  },
  {
   "cell_type": "code",
   "execution_count": 105,
   "metadata": {},
   "outputs": [
    {
     "name": "stderr",
     "output_type": "stream",
     "text": [
      "C:\\Users\\opuna\\AppData\\Local\\Temp\\ipykernel_13076\\454152308.py:3: SettingWithCopyWarning: \n",
      "A value is trying to be set on a copy of a slice from a DataFrame.\n",
      "Try using .loc[row_indexer,col_indexer] = value instead\n",
      "\n",
      "See the caveats in the documentation: https://pandas.pydata.org/pandas-docs/stable/user_guide/indexing.html#returning-a-view-versus-a-copy\n",
      "  tangled_buggy[\"Similarity\"] = tangled_buggy[\"Label\"].apply(lambda x: 0 if x==\"NotBuggy\" else 1)\n",
      "C:\\Users\\opuna\\AppData\\Local\\Temp\\ipykernel_13076\\454152308.py:6: SettingWithCopyWarning: \n",
      "A value is trying to be set on a copy of a slice from a DataFrame.\n",
      "Try using .loc[row_indexer,col_indexer] = value instead\n",
      "\n",
      "See the caveats in the documentation: https://pandas.pydata.org/pandas-docs/stable/user_guide/indexing.html#returning-a-view-versus-a-copy\n",
      "  true_buggy_notbuggy[\"Similarity\"] = 1\n"
     ]
    }
   ],
   "source": [
    "g = pd.read_csv(\"./data/GoldSet.csv\")\n",
    "tangled_buggy = df_emb[df_emb['Hash'].isin(g['CommitHash'])]\n",
    "tangled_buggy[\"Similarity\"] = tangled_buggy[\"Label\"].apply(lambda x: 0 if x==\"NotBuggy\" else 1)\n",
    "\n",
    "true_buggy_notbuggy = df_emb[~df_emb['Hash'].isin(g['CommitHash'])]\n",
    "true_buggy_notbuggy[\"Similarity\"] = 1\n",
    "\n",
    "df_emb = pd.concat([tangled_buggy, true_buggy_notbuggy])"
   ]
  },
  {
   "cell_type": "code",
   "execution_count": 106,
   "metadata": {},
   "outputs": [],
   "source": [
    "input_data_a = np.array([np.array(lst) for lst in df_emb[\"Msg_Cls_Embeddings\"].values])\n",
    "input_data_b = np.array([np.array(lst) for lst in df_emb[\"Msg_Sim_Embeddings\"].values])\n",
    "input_data_c = np.array([np.array(lst) for lst in df_emb[\"Diff_Sim_Embeddings\"].values])\n",
    "\n",
    "class_labels = [0 if x==\"NotBuggy\" else 1 for x in df_emb[\"Label\"].values]\n",
    "similarity_labels = df_emb[\"Similarity\"].values\n",
    "final_labels = class_labels"
   ]
  },
  {
   "cell_type": "code",
   "execution_count": 107,
   "metadata": {},
   "outputs": [
    {
     "data": {
      "text/plain": [
       "((1764, 768), (1764, 768), (1764, 768), 1764, 1764, 1764)"
      ]
     },
     "execution_count": 107,
     "metadata": {},
     "output_type": "execute_result"
    }
   ],
   "source": [
    "input_data_a.shape, input_data_b.shape, input_data_c.shape, len(class_labels), len(similarity_labels), len(final_labels)"
   ]
  },
  {
   "cell_type": "code",
   "execution_count": 108,
   "metadata": {},
   "outputs": [
    {
     "data": {
      "text/plain": [
       "(numpy.ndarray, numpy.ndarray, numpy.ndarray, list, numpy.ndarray, list)"
      ]
     },
     "execution_count": 108,
     "metadata": {},
     "output_type": "execute_result"
    }
   ],
   "source": [
    "type(input_data_a), type(input_data_b), type(input_data_c), type(class_labels), type(similarity_labels), type(final_labels)"
   ]
  },
  {
   "cell_type": "code",
   "execution_count": 109,
   "metadata": {},
   "outputs": [
    {
     "data": {
      "text/plain": [
       "array([[ 0.00349273, -0.02269206, -0.02703833, ..., -0.00041784,\n",
       "         0.08692812,  0.00581245],\n",
       "       [ 0.00349273, -0.02269206, -0.02703833, ..., -0.00041784,\n",
       "         0.08692812,  0.00581245],\n",
       "       [-0.00462745, -0.00393904, -0.03195553, ..., -0.04037669,\n",
       "         0.03765075, -0.01375232],\n",
       "       ...,\n",
       "       [ 0.07172944, -0.02593247, -0.00532279, ...,  0.01402581,\n",
       "         0.04155925, -0.06475929],\n",
       "       [ 0.00668423, -0.01045763, -0.01049829, ..., -0.03779543,\n",
       "         0.03245691,  0.00824588],\n",
       "       [ 0.01470073, -0.07062585, -0.03694122, ...,  0.02055164,\n",
       "         0.0662635 ,  0.00576166]], shape=(1764, 768))"
      ]
     },
     "execution_count": 109,
     "metadata": {},
     "output_type": "execute_result"
    }
   ],
   "source": [
    "input_data_a"
   ]
  },
  {
   "cell_type": "code",
   "execution_count": 100,
   "metadata": {},
   "outputs": [
    {
     "data": {
      "text/plain": [
       "array([-1.000e+00,  0.000e+00,  1.000e+00, ...,  2.996e+03,  2.997e+03,\n",
       "        2.998e+03], shape=(3000,))"
      ]
     },
     "execution_count": 100,
     "metadata": {},
     "output_type": "execute_result"
    }
   ],
   "source": [
    "np.array([i-1 for i in range(3000)], dtype=float)"
   ]
  },
  {
   "cell_type": "code",
   "execution_count": 111,
   "metadata": {},
   "outputs": [
    {
     "name": "stdout",
     "output_type": "stream",
     "text": [
      "Epoch 1/10\n"
     ]
    },
    {
     "name": "stderr",
     "output_type": "stream",
     "text": [
      "d:\\Winter 2025\\COMP 7890 - Data-driven Software Engineering\\Project\\Tangled\\.venv\\Lib\\site-packages\\keras\\src\\ops\\nn.py:908: UserWarning: You are using a softmax over axis -1 of a tensor of shape (None, 1). This axis has size 1. The softmax operation will always return the value 1, which is likely not what you intended. Did you mean to use a sigmoid instead?\n",
      "  warnings.warn(\n"
     ]
    },
    {
     "ename": "ValueError",
     "evalue": "Expected keys ListWrapper(['class_output', 'similarity_output', 'final_output']) in loss dict, but found loss.keys()=['final_output']",
     "output_type": "error",
     "traceback": [
      "\u001b[1;31m---------------------------------------------------------------------------\u001b[0m",
      "\u001b[1;31mValueError\u001b[0m                                Traceback (most recent call last)",
      "Cell \u001b[1;32mIn[111], line 1\u001b[0m\n\u001b[1;32m----> 1\u001b[0m history \u001b[38;5;241m=\u001b[39m \u001b[43mmodel\u001b[49m\u001b[38;5;241;43m.\u001b[39;49m\u001b[43mfit\u001b[49m\u001b[43m(\u001b[49m\n\u001b[0;32m      2\u001b[0m \u001b[43m    \u001b[49m\u001b[43m[\u001b[49m\u001b[43mnp\u001b[49m\u001b[38;5;241;43m.\u001b[39;49m\u001b[43marray\u001b[49m\u001b[43m(\u001b[49m\u001b[43minput_data_a\u001b[49m\u001b[43m)\u001b[49m\u001b[43m,\u001b[49m\u001b[43m \u001b[49m\u001b[43mnp\u001b[49m\u001b[38;5;241;43m.\u001b[39;49m\u001b[43marray\u001b[49m\u001b[43m(\u001b[49m\u001b[43minput_data_b\u001b[49m\u001b[43m)\u001b[49m\u001b[43m,\u001b[49m\u001b[43m \u001b[49m\u001b[43mnp\u001b[49m\u001b[38;5;241;43m.\u001b[39;49m\u001b[43marray\u001b[49m\u001b[43m(\u001b[49m\u001b[43minput_data_c\u001b[49m\u001b[43m)\u001b[49m\u001b[43m]\u001b[49m\u001b[43m,\u001b[49m\u001b[43m \u001b[49m\n\u001b[0;32m      3\u001b[0m \u001b[43m    \u001b[49m\u001b[43m{\u001b[49m\n\u001b[0;32m      4\u001b[0m \u001b[43m        \u001b[49m\u001b[38;5;124;43m\"\u001b[39;49m\u001b[38;5;124;43mclass_output\u001b[39;49m\u001b[38;5;124;43m\"\u001b[39;49m\u001b[43m:\u001b[49m\u001b[43m \u001b[49m\u001b[43mnp\u001b[49m\u001b[38;5;241;43m.\u001b[39;49m\u001b[43marray\u001b[49m\u001b[43m(\u001b[49m\u001b[43mclass_labels\u001b[49m\u001b[43m)\u001b[49m\u001b[43m,\u001b[49m\u001b[43m \u001b[49m\n\u001b[0;32m      5\u001b[0m \u001b[43m        \u001b[49m\u001b[38;5;124;43m\"\u001b[39;49m\u001b[38;5;124;43msimilarity_output\u001b[39;49m\u001b[38;5;124;43m\"\u001b[39;49m\u001b[43m:\u001b[49m\u001b[43m \u001b[49m\u001b[43mnp\u001b[49m\u001b[38;5;241;43m.\u001b[39;49m\u001b[43marray\u001b[49m\u001b[43m(\u001b[49m\u001b[43msimilarity_labels\u001b[49m\u001b[43m)\u001b[49m\u001b[43m,\u001b[49m\u001b[43m \u001b[49m\n\u001b[0;32m      6\u001b[0m \u001b[43m        \u001b[49m\u001b[38;5;124;43m\"\u001b[39;49m\u001b[38;5;124;43mfinal_output\u001b[39;49m\u001b[38;5;124;43m\"\u001b[39;49m\u001b[43m:\u001b[49m\u001b[43m \u001b[49m\u001b[43mnp\u001b[49m\u001b[38;5;241;43m.\u001b[39;49m\u001b[43marray\u001b[49m\u001b[43m(\u001b[49m\u001b[43mfinal_labels\u001b[49m\u001b[43m)\u001b[49m\n\u001b[0;32m      7\u001b[0m \u001b[43m    \u001b[49m\u001b[43m}\u001b[49m\u001b[43m,\u001b[49m\u001b[43m \u001b[49m\n\u001b[0;32m      8\u001b[0m \u001b[43m    \u001b[49m\u001b[43mepochs\u001b[49m\u001b[38;5;241;43m=\u001b[39;49m\u001b[38;5;241;43m10\u001b[39;49m\u001b[43m,\u001b[49m\u001b[43m \u001b[49m\n\u001b[0;32m      9\u001b[0m \u001b[43m    \u001b[49m\u001b[43mbatch_size\u001b[49m\u001b[38;5;241;43m=\u001b[39;49m\u001b[38;5;241;43m32\u001b[39;49m\n\u001b[0;32m     10\u001b[0m \u001b[43m)\u001b[49m\n",
      "File \u001b[1;32md:\\Winter 2025\\COMP 7890 - Data-driven Software Engineering\\Project\\Tangled\\.venv\\Lib\\site-packages\\keras\\src\\utils\\traceback_utils.py:122\u001b[0m, in \u001b[0;36mfilter_traceback.<locals>.error_handler\u001b[1;34m(*args, **kwargs)\u001b[0m\n\u001b[0;32m    119\u001b[0m     filtered_tb \u001b[38;5;241m=\u001b[39m _process_traceback_frames(e\u001b[38;5;241m.\u001b[39m__traceback__)\n\u001b[0;32m    120\u001b[0m     \u001b[38;5;66;03m# To get the full stack trace, call:\u001b[39;00m\n\u001b[0;32m    121\u001b[0m     \u001b[38;5;66;03m# `keras.config.disable_traceback_filtering()`\u001b[39;00m\n\u001b[1;32m--> 122\u001b[0m     \u001b[38;5;28;01mraise\u001b[39;00m e\u001b[38;5;241m.\u001b[39mwith_traceback(filtered_tb) \u001b[38;5;28;01mfrom\u001b[39;00m\u001b[38;5;250m \u001b[39m\u001b[38;5;28;01mNone\u001b[39;00m\n\u001b[0;32m    123\u001b[0m \u001b[38;5;28;01mfinally\u001b[39;00m:\n\u001b[0;32m    124\u001b[0m     \u001b[38;5;28;01mdel\u001b[39;00m filtered_tb\n",
      "File \u001b[1;32md:\\Winter 2025\\COMP 7890 - Data-driven Software Engineering\\Project\\Tangled\\.venv\\Lib\\site-packages\\keras\\src\\trainers\\compile_utils.py:584\u001b[0m, in \u001b[0;36mCompileLoss.build\u001b[1;34m(self, y_true, y_pred)\u001b[0m\n\u001b[0;32m    579\u001b[0m             loss_weights \u001b[38;5;241m=\u001b[39m [\n\u001b[0;32m    580\u001b[0m                 \u001b[38;5;28mself\u001b[39m\u001b[38;5;241m.\u001b[39m_user_loss_weights[name]\n\u001b[0;32m    581\u001b[0m                 \u001b[38;5;28;01mfor\u001b[39;00m name \u001b[38;5;129;01min\u001b[39;00m \u001b[38;5;28mself\u001b[39m\u001b[38;5;241m.\u001b[39moutput_names\n\u001b[0;32m    582\u001b[0m             ]\n\u001b[0;32m    583\u001b[0m     \u001b[38;5;28;01melse\u001b[39;00m:\n\u001b[1;32m--> 584\u001b[0m         \u001b[38;5;28;01mraise\u001b[39;00m \u001b[38;5;167;01mValueError\u001b[39;00m(\n\u001b[0;32m    585\u001b[0m             \u001b[38;5;124mf\u001b[39m\u001b[38;5;124m\"\u001b[39m\u001b[38;5;124mExpected keys \u001b[39m\u001b[38;5;132;01m{\u001b[39;00m\u001b[38;5;28mself\u001b[39m\u001b[38;5;241m.\u001b[39moutput_names\u001b[38;5;132;01m}\u001b[39;00m\u001b[38;5;124m in loss dict, but \u001b[39m\u001b[38;5;124m\"\u001b[39m\n\u001b[0;32m    586\u001b[0m             \u001b[38;5;124mf\u001b[39m\u001b[38;5;124m\"\u001b[39m\u001b[38;5;124mfound loss.keys()=\u001b[39m\u001b[38;5;132;01m{\u001b[39;00m\u001b[38;5;28mlist\u001b[39m(\u001b[38;5;28mself\u001b[39m\u001b[38;5;241m.\u001b[39m_user_loss\u001b[38;5;241m.\u001b[39mkeys())\u001b[38;5;132;01m}\u001b[39;00m\u001b[38;5;124m\"\u001b[39m\n\u001b[0;32m    587\u001b[0m         )\n\u001b[0;32m    589\u001b[0m \u001b[38;5;66;03m# Pytree leaf container\u001b[39;00m\n\u001b[0;32m    590\u001b[0m \u001b[38;5;28;01mclass\u001b[39;00m\u001b[38;5;250m \u001b[39m\u001b[38;5;21;01mWeightedLoss\u001b[39;00m:\n",
      "\u001b[1;31mValueError\u001b[0m: Expected keys ListWrapper(['class_output', 'similarity_output', 'final_output']) in loss dict, but found loss.keys()=['final_output']"
     ]
    }
   ],
   "source": [
    "history = model.fit(\n",
    "    [np.array(input_data_a), np.array(input_data_b), np.array(input_data_c)], \n",
    "    {\n",
    "        \"class_output\": np.array(class_labels), \n",
    "        \"similarity_output\": np.array(similarity_labels), \n",
    "        \"final_output\": np.array(final_labels)\n",
    "    }, \n",
    "    epochs=10, \n",
    "    batch_size=32\n",
    ")\n"
   ]
  },
  {
   "cell_type": "code",
   "execution_count": null,
   "metadata": {},
   "outputs": [],
   "source": []
  }
 ],
 "metadata": {
  "kernelspec": {
   "display_name": ".venv",
   "language": "python",
   "name": "python3"
  },
  "language_info": {
   "codemirror_mode": {
    "name": "ipython",
    "version": 3
   },
   "file_extension": ".py",
   "mimetype": "text/x-python",
   "name": "python",
   "nbconvert_exporter": "python",
   "pygments_lexer": "ipython3",
   "version": "3.12.7"
  }
 },
 "nbformat": 4,
 "nbformat_minor": 2
}
