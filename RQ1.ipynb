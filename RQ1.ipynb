{
 "cells": [
  {
   "cell_type": "markdown",
   "metadata": {},
   "source": [
    "# RQ1: Can LLM detect bug-fix-related diffs from tangled commits?"
   ]
  },
  {
   "cell_type": "code",
   "execution_count": null,
   "metadata": {},
   "outputs": [],
   "source": [
    "%load_ext autoreload\n",
    "%autoreload 2\n",
    "\n",
    "import os\n",
    "import numpy as np\n",
    "import pandas as pd\n",
    "\n",
    "from sklearn.metrics import classification_report, ConfusionMatrixDisplay, confusion_matrix\n",
    "from modules.Untangler import GeminiUntangler, OpenAIUntangler, FreeUntangler"
   ]
  },
  {
   "cell_type": "code",
   "execution_count": null,
   "metadata": {},
   "outputs": [],
   "source": [
    "df = pd.read_csv(\"./data/Complete_GoldSet.csv\")"
   ]
  },
  {
   "cell_type": "code",
   "execution_count": null,
   "metadata": {},
   "outputs": [],
   "source": [
    "os.makedirs(\"./Results/RQ1\", exist_ok=True)"
   ]
  },
  {
   "cell_type": "markdown",
   "metadata": {},
   "source": [
    "# Without Commit Message"
   ]
  },
  {
   "cell_type": "markdown",
   "metadata": {},
   "source": [
    "## gpt-4o-mini"
   ]
  },
  {
   "cell_type": "code",
   "execution_count": null,
   "metadata": {},
   "outputs": [],
   "source": [
    "model_name = \"gpt-4o-mini\"\n",
    "untangler = OpenAIUntangler(model_name, False, 0, False)\n",
    "result = untangler.batch_detect(df, iteratively=False)\n",
    "result.to_csv(f\"./Results/RQ1/{model_name}.csv\", index = False)"
   ]
  },
  {
   "cell_type": "code",
   "execution_count": null,
   "metadata": {},
   "outputs": [],
   "source": [
    "result = pd.read_csv(f\"./Results/RQ1/{model_name}.csv\")\n",
    "print(classification_report(result[\"Decision\"], result[\"Detection\"]))\n",
    "cm = confusion_matrix(result[\"Decision\"], result[\"Detection\"], labels=[\"Buggy\", \"NotBuggy\"])\n",
    "fig = ConfusionMatrixDisplay(cm, display_labels=[\"Buggy\", \"NotBuggy\"])\n",
    "fig.plot()"
   ]
  },
  {
   "cell_type": "code",
   "execution_count": null,
   "metadata": {},
   "outputs": [],
   "source": [
    "g = pd.read_csv(\"./data/GoldSet.csv\")\n",
    "filtered_result = result[result['CommitHash'].isin(g['CommitHash'])]\n",
    "print(classification_report(filtered_result[\"Decision\"], filtered_result[\"Detection\"]))\n",
    "cm = confusion_matrix(filtered_result[\"Decision\"], filtered_result[\"Detection\"], labels=[\"Buggy\", \"NotBuggy\"])\n",
    "fig = ConfusionMatrixDisplay(cm, display_labels=[\"Buggy\", \"NotBuggy\"])\n",
    "fig.plot()"
   ]
  },
  {
   "cell_type": "markdown",
   "metadata": {},
   "source": [
    "## gpt-4o"
   ]
  },
  {
   "cell_type": "code",
   "execution_count": null,
   "metadata": {},
   "outputs": [],
   "source": [
    "model_name = \"gpt-4o\"\n",
    "untangler = OpenAIUntangler(model_name, False, 0, False)\n",
    "result = untangler.batch_detect(df, iteratively=False)\n",
    "result.to_csv(f\"./Results/RQ1/{model_name}.csv\", index = False)"
   ]
  },
  {
   "cell_type": "code",
   "execution_count": null,
   "metadata": {},
   "outputs": [],
   "source": [
    "result = pd.read_csv(f\"./Results/RQ1/{model_name}.csv\")\n",
    "print(classification_report(result[\"Decision\"], result[\"Detection\"]))"
   ]
  },
  {
   "cell_type": "code",
   "execution_count": null,
   "metadata": {},
   "outputs": [],
   "source": [
    "g = pd.read_csv(\"./data/GoldSet.csv\")\n",
    "filtered_result = result[result['CommitHash'].isin(g['CommitHash'])]\n",
    "print(classification_report(filtered_result[\"Decision\"], filtered_result[\"Detection\"]))\n",
    "cm = confusion_matrix(filtered_result[\"Decision\"], filtered_result[\"Detection\"], labels=[\"Buggy\", \"NotBuggy\"])\n",
    "fig = ConfusionMatrixDisplay(cm, display_labels=[\"Buggy\", \"NotBuggy\"])\n",
    "fig.plot()"
   ]
  },
  {
   "cell_type": "markdown",
   "metadata": {},
   "source": [
    "## gemini-2.0-flash"
   ]
  },
  {
   "cell_type": "code",
   "execution_count": null,
   "metadata": {},
   "outputs": [],
   "source": [
    "model_name = \"gemini-2.0-flash\"\n",
    "untangler = GeminiUntangler(model_name, False, 0, False)\n",
    "result = untangler.batch_detect(df)\n",
    "result[\"Detection\"] = result[\"Detection\"].apply(lambda x: x.strip())\n",
    "result.to_csv(f\"./Results/RQ1/{model_name}.csv\", index = False)"
   ]
  },
  {
   "cell_type": "code",
   "execution_count": null,
   "metadata": {},
   "outputs": [],
   "source": [
    "result = pd.read_csv(f\"./Results/RQ1/{model_name}.csv\")\n",
    "print(classification_report(result[\"Decision\"], result[\"Detection\"]))"
   ]
  },
  {
   "cell_type": "code",
   "execution_count": null,
   "metadata": {},
   "outputs": [],
   "source": [
    "g = pd.read_csv(\"./data/GoldSet.csv\")\n",
    "filtered_result = result[result['CommitHash'].isin(g['CommitHash'])]\n",
    "print(classification_report(filtered_result[\"Decision\"], filtered_result[\"Detection\"]))\n",
    "cm = confusion_matrix(filtered_result[\"Decision\"], filtered_result[\"Detection\"], labels=[\"Buggy\", \"NotBuggy\"])\n",
    "fig = ConfusionMatrixDisplay(cm, display_labels=[\"Buggy\", \"NotBuggy\"])\n",
    "fig.plot()"
   ]
  },
  {
   "cell_type": "markdown",
   "metadata": {},
   "source": [
    "## codellama/CodeLlama-7b-hf"
   ]
  },
  {
   "cell_type": "code",
   "execution_count": null,
   "metadata": {},
   "outputs": [],
   "source": [
    "model_name = \"microsoft/Phi-3-mini-4k-instruct\"\n",
    "untangler = FreeUntangler(model_name, False, 0, False)\n",
    "result = untangler.batch_detect(df[:2])\n",
    "result[\"Detection\"] = result[\"Detection\"].apply(lambda x: x.strip())\n",
    "\n",
    "model_name = model_name.replace(\"/\",\"-\")\n",
    "result.to_csv(f\"./Results/RQ1/{model_name}.csv\", index = False)"
   ]
  },
  {
   "cell_type": "code",
   "execution_count": null,
   "metadata": {},
   "outputs": [],
   "source": [
    "result = pd.read_csv(f\"./Results/RQ1/{model_name}.csv\")\n",
    "print(classification_report(result[\"Decision\"], result[\"Detection\"]))"
   ]
  },
  {
   "cell_type": "code",
   "execution_count": null,
   "metadata": {},
   "outputs": [],
   "source": [
    "g = pd.read_csv(\"./data/GoldSet.csv\")\n",
    "filtered_result = result[result['CommitHash'].isin(g['CommitHash'])]\n",
    "print(classification_report(filtered_result[\"Decision\"], filtered_result[\"Detection\"]))\n",
    "cm = confusion_matrix(filtered_result[\"Decision\"], filtered_result[\"Detection\"], labels=[\"Buggy\", \"NotBuggy\"])\n",
    "fig = ConfusionMatrixDisplay(cm, display_labels=[\"Buggy\", \"NotBuggy\"])\n",
    "fig.plot()"
   ]
  },
  {
   "cell_type": "markdown",
   "metadata": {},
   "source": [
    "# With Commit Message"
   ]
  },
  {
   "cell_type": "markdown",
   "metadata": {},
   "source": [
    "## gpt-4o-mini"
   ]
  },
  {
   "cell_type": "code",
   "execution_count": null,
   "metadata": {},
   "outputs": [],
   "source": [
    "model_name = \"gpt-4o-mini\"\n",
    "untangler = OpenAIUntangler(model_name, True, 0, False)\n",
    "result = untangler.batch_detect(df, iteratively=False)\n",
    "result.to_csv(f\"./Results/RQ1/{model_name}.csv\", index = False)"
   ]
  },
  {
   "cell_type": "code",
   "execution_count": null,
   "metadata": {},
   "outputs": [],
   "source": [
    "result = pd.read_csv(f\"./Results/RQ1/{model_name}.csv\")\n",
    "print(classification_report(result[\"Decision\"], result[\"Detection\"]))\n",
    "cm = confusion_matrix(result[\"Decision\"], result[\"Detection\"], labels=[\"Buggy\", \"NotBuggy\"])\n",
    "fig = ConfusionMatrixDisplay(cm, display_labels=[\"Buggy\", \"NotBuggy\"])\n",
    "fig.plot()"
   ]
  },
  {
   "cell_type": "code",
   "execution_count": null,
   "metadata": {},
   "outputs": [],
   "source": [
    "g = pd.read_csv(\"./data/GoldSet.csv\")\n",
    "filtered_result = result[result['CommitHash'].isin(g['CommitHash'])]\n",
    "print(classification_report(filtered_result[\"Decision\"], filtered_result[\"Detection\"]))\n",
    "cm = confusion_matrix(filtered_result[\"Decision\"], filtered_result[\"Detection\"], labels=[\"Buggy\", \"NotBuggy\"])\n",
    "fig = ConfusionMatrixDisplay(cm, display_labels=[\"Buggy\", \"NotBuggy\"])\n",
    "fig.plot()"
   ]
  },
  {
   "cell_type": "markdown",
   "metadata": {},
   "source": [
    "## gpt-4o"
   ]
  },
  {
   "cell_type": "code",
   "execution_count": null,
   "metadata": {},
   "outputs": [],
   "source": [
    "model_name = \"gpt-4o\"\n",
    "untangler = OpenAIUntangler(model_name, True, 0, False)\n",
    "result = untangler.batch_detect(df, iteratively=False)\n",
    "result.to_csv(f\"./Results/RQ1/{model_name}.csv\", index = False)"
   ]
  },
  {
   "cell_type": "code",
   "execution_count": null,
   "metadata": {},
   "outputs": [],
   "source": [
    "result = pd.read_csv(f\"./Results/RQ1/{model_name}.csv\")\n",
    "print(classification_report(result[\"Decision\"], result[\"Detection\"]))"
   ]
  },
  {
   "cell_type": "code",
   "execution_count": null,
   "metadata": {},
   "outputs": [],
   "source": [
    "g = pd.read_csv(\"./data/GoldSet.csv\")\n",
    "filtered_result = result[result['CommitHash'].isin(g['CommitHash'])]\n",
    "print(classification_report(filtered_result[\"Decision\"], filtered_result[\"Detection\"]))\n",
    "cm = confusion_matrix(filtered_result[\"Decision\"], filtered_result[\"Detection\"], labels=[\"Buggy\", \"NotBuggy\"])\n",
    "fig = ConfusionMatrixDisplay(cm, display_labels=[\"Buggy\", \"NotBuggy\"])\n",
    "fig.plot()"
   ]
  },
  {
   "cell_type": "markdown",
   "metadata": {},
   "source": [
    "## gemini-2.0-flash"
   ]
  },
  {
   "cell_type": "code",
   "execution_count": null,
   "metadata": {},
   "outputs": [],
   "source": [
    "model_name = \"gemini-2.0-flash\"\n",
    "untangler = GeminiUntangler(model_name, True, 0, False)\n",
    "result = untangler.batch_detect(df)\n",
    "result[\"Detection\"] = result[\"Detection\"].apply(lambda x: x.strip())\n",
    "result.to_csv(f\"./Results/RQ1/{model_name}.csv\", index = False)"
   ]
  },
  {
   "cell_type": "code",
   "execution_count": null,
   "metadata": {},
   "outputs": [],
   "source": [
    "result = pd.read_csv(f\"./Results/RQ1/{model_name}.csv\")\n",
    "print(classification_report(result[\"Decision\"], result[\"Detection\"]))"
   ]
  },
  {
   "cell_type": "code",
   "execution_count": null,
   "metadata": {},
   "outputs": [],
   "source": [
    "g = pd.read_csv(\"./data/GoldSet.csv\")\n",
    "filtered_result = result[result['CommitHash'].isin(g['CommitHash'])]\n",
    "print(classification_report(filtered_result[\"Decision\"], filtered_result[\"Detection\"]))\n",
    "cm = confusion_matrix(filtered_result[\"Decision\"], filtered_result[\"Detection\"], labels=[\"Buggy\", \"NotBuggy\"])\n",
    "fig = ConfusionMatrixDisplay(cm, display_labels=[\"Buggy\", \"NotBuggy\"])\n",
    "fig.plot()"
   ]
  },
  {
   "cell_type": "markdown",
   "metadata": {},
   "source": [
    "## codellama/CodeLlama-7b-hf"
   ]
  },
  {
   "cell_type": "code",
   "execution_count": null,
   "metadata": {},
   "outputs": [],
   "source": [
    "model_name = \"microsoft/Phi-3-mini-4k-instruct\"\n",
    "untangler = FreeUntangler(model_name, True, 0, False)\n",
    "result = untangler.batch_detect(df[:2])\n",
    "result[\"Detection\"] = result[\"Detection\"].apply(lambda x: x.strip())\n",
    "\n",
    "model_name = model_name.replace(\"/\",\"-\")\n",
    "result.to_csv(f\"./Results/RQ1/{model_name}.csv\", index = False)"
   ]
  },
  {
   "cell_type": "code",
   "execution_count": null,
   "metadata": {},
   "outputs": [],
   "source": [
    "result = pd.read_csv(f\"./Results/RQ1/{model_name}.csv\")\n",
    "print(classification_report(result[\"Decision\"], result[\"Detection\"]))"
   ]
  },
  {
   "cell_type": "code",
   "execution_count": null,
   "metadata": {},
   "outputs": [],
   "source": [
    "g = pd.read_csv(\"./data/GoldSet.csv\")\n",
    "filtered_result = result[result['CommitHash'].isin(g['CommitHash'])]\n",
    "print(classification_report(filtered_result[\"Decision\"], filtered_result[\"Detection\"]))\n",
    "cm = confusion_matrix(filtered_result[\"Decision\"], filtered_result[\"Detection\"], labels=[\"Buggy\", \"NotBuggy\"])\n",
    "fig = ConfusionMatrixDisplay(cm, display_labels=[\"Buggy\", \"NotBuggy\"])\n",
    "fig.plot()"
   ]
  }
 ],
 "metadata": {
  "kernelspec": {
   "display_name": "Python 3",
   "language": "python",
   "name": "python3"
  },
  "language_info": {
   "codemirror_mode": {
    "name": "ipython",
    "version": 3
   },
   "file_extension": ".py",
   "mimetype": "text/x-python",
   "name": "python",
   "nbconvert_exporter": "python",
   "pygments_lexer": "ipython3",
   "version": "3.10.16"
  }
 },
 "nbformat": 4,
 "nbformat_minor": 2
}
