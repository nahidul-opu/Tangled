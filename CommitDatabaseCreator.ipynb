{
 "cells": [
  {
   "cell_type": "code",
   "execution_count": 1,
   "metadata": {},
   "outputs": [
    {
     "data": {
      "application/javascript": "IPython.notebook.set_autosave_interval(120000)"
     },
     "metadata": {},
     "output_type": "display_data"
    },
    {
     "name": "stdout",
     "output_type": "stream",
     "text": [
      "Autosaving every 120 seconds\n"
     ]
    }
   ],
   "source": [
    "%load_ext autoreload\n",
    "%autoreload 2\n",
    "\n",
    "%autosave 120\n",
    "\n",
    "import pandas as pd\n",
    "import glob\n",
    "import numpy as np\n",
    "import os\n",
    "import json\n",
    "from modules.utilities import are_bugs_from_tangled, has_bug, is_same_history, parse_hash_delimited_string"
   ]
  },
  {
   "cell_type": "markdown",
   "metadata": {},
   "source": [
    "# Creating commit database"
   ]
  },
  {
   "cell_type": "code",
   "execution_count": 2,
   "metadata": {},
   "outputs": [
    {
     "data": {
      "text/plain": [
       "'\\n{\\n    \"#ProjectName#\": \\n    {\\n        \"#CommmitHash#\": \\n        [\\n            {\\n                \"File\": string,\\n                \"MethodName\": string,\\n                \"ChangeType\": string\\n            },\\n            ,,,,,,\\n        ],\\n        .....\\n    },\\n    ......\\n}\\n'"
      ]
     },
     "execution_count": 2,
     "metadata": {},
     "output_type": "execute_result"
    }
   ],
   "source": [
    "'''\n",
    "{\n",
    "    \"#ProjectName#\": \n",
    "    {\n",
    "        \"#CommmitHash#\": \n",
    "        [\n",
    "            {\n",
    "                \"File\": string,\n",
    "                \"MethodName\": string,\n",
    "                \"ChangeType\": string\n",
    "            },\n",
    "            ,,,,,,\n",
    "        ],\n",
    "        .....\n",
    "    },\n",
    "    ......\n",
    "}\n",
    "'''"
   ]
  },
  {
   "cell_type": "code",
   "execution_count": 3,
   "metadata": {},
   "outputs": [],
   "source": [
    "csv_files = glob.glob(\"./data/Processed/*.csv\")\n",
    "\n",
    "database = {}\n",
    "for csv_file in csv_files:\n",
    "    df = pd.read_csv(csv_file,delimiter=\"\\t\")\n",
    "    project_name = os.path.basename(csv_file).replace(\".csv\",\"\")\n",
    "    database[project_name] = {}\n",
    "\n",
    "    for index, row in df.iterrows():\n",
    "        json_path = os.path.join(\"./data/source-methods/\", project_name, row[\"file\"])\n",
    "        data = json.load(open(json_path))\n",
    "        for commit_hash in data[\"changeHistory\"]:\n",
    "            if commit_hash not in database[project_name].keys():\n",
    "                database[project_name][commit_hash] = []\n",
    "            database[project_name][commit_hash].append({\n",
    "                \"File\": row[\"file\"],\n",
    "                \"MethodName\": data[\"functionName\"],\n",
    "                \"ChangeType\": data[\"changeHistoryShort\"][commit_hash]\n",
    "            })\n"
   ]
  },
  {
   "cell_type": "code",
   "execution_count": 4,
   "metadata": {},
   "outputs": [],
   "source": [
    "import json\n",
    "\n",
    "# Serialize data into file:\n",
    "json.dump(database, open(\"./data/CommitDatabase.json\", 'w'))\n"
   ]
  },
  {
   "cell_type": "code",
   "execution_count": 2,
   "metadata": {},
   "outputs": [],
   "source": [
    "\n",
    "# Read data from file:\n",
    "commit_db = json.load(open(\"./data/CommitDatabase.json\"))"
   ]
  },
  {
   "cell_type": "markdown",
   "metadata": {},
   "source": [
    "# Creating Risky Commit database"
   ]
  },
  {
   "cell_type": "code",
   "execution_count": 21,
   "metadata": {},
   "outputs": [],
   "source": [
    "csv_files = glob.glob(\"./data/Processed/*.csv\")\n",
    "\n",
    "bug_database = {}\n",
    "for csv_file in csv_files:\n",
    "    df = pd.read_csv(csv_file,delimiter=\"\\t\")\n",
    "    project_name = os.path.basename(csv_file).replace(\".csv\",\"\")\n",
    "\n",
    "    bug_database[project_name] = {}\n",
    "\n",
    "    for _, row in df.iterrows():\n",
    "        history = parse_hash_delimited_string(row[\"RiskyCommit\"])\n",
    "        history.reverse()\n",
    "        \n",
    "        json_path = os.path.join(\"./data/source-methods/\", project_name, row[\"file\"])\n",
    "        data = json.load(open(json_path))\n",
    "\n",
    "        for index, is_buggy in enumerate(history):\n",
    "            if is_buggy == 1:\n",
    "                bug_database[project_name][data[\"changeHistory\"][index]] = len(commit_db[project_name][data[\"changeHistory\"][index]])"
   ]
  },
  {
   "cell_type": "code",
   "execution_count": 22,
   "metadata": {},
   "outputs": [],
   "source": [
    "\n",
    "json.dump(bug_database, open(\"./data/RiskyCommitDatabase.json\", 'w'))"
   ]
  },
  {
   "cell_type": "markdown",
   "metadata": {},
   "source": [
    "# Creating Buggy Commit Database"
   ]
  },
  {
   "cell_type": "code",
   "execution_count": 3,
   "metadata": {},
   "outputs": [],
   "source": [
    "csv_files = glob.glob(\"./data/Processed/*.csv\")\n",
    "\n",
    "bug_database = {}\n",
    "for csv_file in csv_files:\n",
    "    df = pd.read_csv(csv_file,delimiter=\"\\t\")\n",
    "    project_name = os.path.basename(csv_file).replace(\".csv\",\"\")\n",
    "    \n",
    "    bug_database[project_name] = {}\n",
    "\n",
    "    for _, row in df.iterrows():\n",
    "        history = parse_hash_delimited_string(row[\"Buggycommiit\"])\n",
    "        history.reverse()\n",
    "        \n",
    "        json_path = os.path.join(\"./data/source-methods/\", project_name, row[\"file\"])\n",
    "        data = json.load(open(json_path))\n",
    "\n",
    "        for index, is_buggy in enumerate(history):\n",
    "            if is_buggy == 1:\n",
    "                bug_database[project_name][data[\"changeHistory\"][index]] = len(commit_db[project_name][data[\"changeHistory\"][index]])"
   ]
  },
  {
   "cell_type": "code",
   "execution_count": 4,
   "metadata": {},
   "outputs": [],
   "source": [
    "\n",
    "json.dump(bug_database, open(\"./data/BuggyCommitDatabase.json\", 'w'))"
   ]
  }
 ],
 "metadata": {
  "kernelspec": {
   "display_name": "Python 3",
   "language": "python",
   "name": "python3"
  },
  "language_info": {
   "codemirror_mode": {
    "name": "ipython",
    "version": 3
   },
   "file_extension": ".py",
   "mimetype": "text/x-python",
   "name": "python",
   "nbconvert_exporter": "python",
   "pygments_lexer": "ipython3",
   "version": "3.10.16"
  }
 },
 "nbformat": 4,
 "nbformat_minor": 2
}
