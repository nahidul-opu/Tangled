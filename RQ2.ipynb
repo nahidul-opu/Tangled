{
 "cells": [
  {
   "cell_type": "markdown",
   "metadata": {},
   "source": [
    "# RQ2: Impact of different prompting techniques on detecting bug-fix related diff"
   ]
  },
  {
   "cell_type": "code",
   "execution_count": 1,
   "metadata": {},
   "outputs": [],
   "source": [
    "%load_ext autoreload\n",
    "%autoreload 2\n",
    "\n",
    "import os\n",
    "import numpy as np\n",
    "import pandas as pd\n",
    "\n",
    "from sklearn.metrics import classification_report, ConfusionMatrixDisplay, confusion_matrix\n",
    "from modules.Untangler import GeminiUntangler, OpenAIUntangler, FreeUntangler"
   ]
  },
  {
   "cell_type": "code",
   "execution_count": 2,
   "metadata": {},
   "outputs": [],
   "source": [
    "df = pd.read_csv(\"./data/Complete_GoldSet.csv\")"
   ]
  },
  {
   "cell_type": "code",
   "execution_count": 5,
   "metadata": {},
   "outputs": [],
   "source": [
    "os.makedirs(\"./Results/RQ2\", exist_ok=True)"
   ]
  },
  {
   "cell_type": "markdown",
   "metadata": {},
   "source": [
    "# Few-shot"
   ]
  },
  {
   "cell_type": "code",
   "execution_count": 4,
   "metadata": {},
   "outputs": [],
   "source": [
    "save_path = \"./Results/RQ2/FewShot/\"\n",
    "os.makedirs(save_path, exist_ok=True)"
   ]
  },
  {
   "cell_type": "markdown",
   "metadata": {},
   "source": [
    "## gpt-4o"
   ]
  },
  {
   "cell_type": "code",
   "execution_count": null,
   "metadata": {},
   "outputs": [],
   "source": [
    "model_name = \"gpt-4o\"\n",
    "untangler = OpenAIUntangler(model_name, True, 2, False)\n",
    "result = untangler.batch_detect(df, iteratively=False)\n",
    "result.to_csv(f\"{save_path}{model_name}.csv\", index = False)"
   ]
  },
  {
   "cell_type": "code",
   "execution_count": 5,
   "metadata": {},
   "outputs": [
    {
     "name": "stderr",
     "output_type": "stream",
     "text": [
      "100%|██████████| 1776/1776 [00:00<00:00, 46267601.89it/s]\n"
     ]
    }
   ],
   "source": [
    "model_name = \"gpt-4o\"\n",
    "untangler = OpenAIUntangler(model_name, True, 0, False)\n",
    "_, result = untangler.get_batch_result(\"batch_67e10d48199881908ed9c2d03ecefa16\", df)\n",
    "result.to_csv(f\"{save_path}{model_name}.csv\", index = False)"
   ]
  },
  {
   "cell_type": "code",
   "execution_count": 6,
   "metadata": {},
   "outputs": [
    {
     "name": "stdout",
     "output_type": "stream",
     "text": [
      "              precision    recall  f1-score   support\n",
      "\n",
      "       Buggy       0.90      0.83      0.87       900\n",
      "    NotBuggy       0.84      0.91      0.87       876\n",
      "\n",
      "    accuracy                           0.87      1776\n",
      "   macro avg       0.87      0.87      0.87      1776\n",
      "weighted avg       0.87      0.87      0.87      1776\n",
      "\n"
     ]
    }
   ],
   "source": [
    "model_name = \"gpt-4o\"\n",
    "result = pd.read_csv(f\"{save_path}{model_name}.csv\")\n",
    "print(classification_report(result[\"Decision\"], result[\"Detection\"]))"
   ]
  },
  {
   "cell_type": "code",
   "execution_count": 7,
   "metadata": {},
   "outputs": [
    {
     "name": "stdout",
     "output_type": "stream",
     "text": [
      "              precision    recall  f1-score   support\n",
      "\n",
      "       Buggy       0.80      0.87      0.83       168\n",
      "    NotBuggy       0.83      0.75      0.79       144\n",
      "\n",
      "    accuracy                           0.81       312\n",
      "   macro avg       0.82      0.81      0.81       312\n",
      "weighted avg       0.82      0.81      0.81       312\n",
      "\n"
     ]
    },
    {
     "data": {
      "text/plain": [
       "<sklearn.metrics._plot.confusion_matrix.ConfusionMatrixDisplay at 0x7f9dac23eef0>"
      ]
     },
     "execution_count": 7,
     "metadata": {},
     "output_type": "execute_result"
    },
    {
     "data": {
      "image/png": "[encoded data removed]",
      "text/plain": [
       "<Figure size 640x480 with 2 Axes>"
      ]
     },
     "metadata": {},
     "output_type": "display_data"
    }
   ],
   "source": [
    "g = pd.read_csv(\"./data/GoldSet.csv\")\n",
    "filtered_result = result[result['CommitHash'].isin(g['CommitHash'])]\n",
    "print(classification_report(filtered_result[\"Decision\"], filtered_result[\"Detection\"]))\n",
    "cm = confusion_matrix(filtered_result[\"Decision\"], filtered_result[\"Detection\"], labels=[\"Buggy\", \"NotBuggy\"])\n",
    "fig = ConfusionMatrixDisplay(cm, display_labels=[\"Buggy\", \"NotBuggy\"])\n",
    "fig.plot()"
   ]
  },
  {
   "cell_type": "markdown",
   "metadata": {},
   "source": [
    "## gemini-2.0-flash"
   ]
  },
  {
   "cell_type": "code",
   "execution_count": 11,
   "metadata": {},
   "outputs": [
    {
     "name": "stderr",
     "output_type": "stream",
     "text": [
      "1776it [11:57,  2.48it/s]\n"
     ]
    }
   ],
   "source": [
    "model_name = \"gemini-2.0-flash\"\n",
    "untangler = GeminiUntangler(model_name, True, 2, False)\n",
    "result = untangler.batch_detect(df)\n",
    "result[\"Detection\"] = result[\"Detection\"].apply(lambda x: x.strip())\n",
    "result.to_csv(f\"{save_path}{model_name}.csv\", index = False)"
   ]
  },
  {
   "cell_type": "code",
   "execution_count": 12,
   "metadata": {},
   "outputs": [
    {
     "name": "stdout",
     "output_type": "stream",
     "text": [
      "              precision    recall  f1-score   support\n",
      "\n",
      "       Buggy       0.72      0.99      0.83       900\n",
      "    NotBuggy       0.98      0.61      0.75       876\n",
      "\n",
      "    accuracy                           0.80      1776\n",
      "   macro avg       0.85      0.80      0.79      1776\n",
      "weighted avg       0.85      0.80      0.79      1776\n",
      "\n"
     ]
    }
   ],
   "source": [
    "model_name = \"gemini-2.0-flash\"\n",
    "result = pd.read_csv(f\"{save_path}{model_name}.csv\")\n",
    "print(classification_report(result[\"Decision\"], result[\"Detection\"]))"
   ]
  },
  {
   "cell_type": "code",
   "execution_count": 13,
   "metadata": {},
   "outputs": [
    {
     "name": "stdout",
     "output_type": "stream",
     "text": [
      "              precision    recall  f1-score   support\n",
      "\n",
      "       Buggy       0.58      0.99      0.73       168\n",
      "    NotBuggy       0.96      0.16      0.27       144\n",
      "\n",
      "    accuracy                           0.61       312\n",
      "   macro avg       0.77      0.58      0.50       312\n",
      "weighted avg       0.75      0.61      0.52       312\n",
      "\n"
     ]
    },
    {
     "data": {
      "text/plain": [
       "<sklearn.metrics._plot.confusion_matrix.ConfusionMatrixDisplay at 0x12d5b21a960>"
      ]
     },
     "execution_count": 13,
     "metadata": {},
     "output_type": "execute_result"
    },
    {
     "data": {
      "image/png": "[encoded data removed]",
      "text/plain": [
       "<Figure size 640x480 with 2 Axes>"
      ]
     },
     "metadata": {},
     "output_type": "display_data"
    }
   ],
   "source": [
    "g = pd.read_csv(\"./data/GoldSet.csv\")\n",
    "filtered_result = result[result['CommitHash'].isin(g['CommitHash'])]\n",
    "print(classification_report(filtered_result[\"Decision\"], filtered_result[\"Detection\"]))\n",
    "cm = confusion_matrix(filtered_result[\"Decision\"], filtered_result[\"Detection\"], labels=[\"Buggy\", \"NotBuggy\"])\n",
    "fig = ConfusionMatrixDisplay(cm, display_labels=[\"Buggy\", \"NotBuggy\"])\n",
    "fig.plot()"
   ]
  },
  {
   "cell_type": "markdown",
   "metadata": {},
   "source": [
    "# Chain of Thought"
   ]
  },
  {
   "cell_type": "code",
   "execution_count": 23,
   "metadata": {},
   "outputs": [],
   "source": [
    "save_path = \"./Results/RQ2/COT/\"\n",
    "os.makedirs(save_path, exist_ok=True)"
   ]
  },
  {
   "cell_type": "markdown",
   "metadata": {},
   "source": [
    "## gpt-4o"
   ]
  },
  {
   "cell_type": "code",
   "execution_count": null,
   "metadata": {},
   "outputs": [],
   "source": [
    "model_name = \"gpt-4o\"\n",
    "untangler = OpenAIUntangler(model_name, True, 0, True)\n",
    "result = untangler.batch_detect(df, iteratively=False)\n",
    "result.to_csv(f\"{save_path}{model_name}.csv\", index = False)"
   ]
  },
  {
   "cell_type": "code",
   "execution_count": null,
   "metadata": {},
   "outputs": [],
   "source": [
    "model_name = \"gpt-4o\"\n",
    "result = pd.read_csv(f\"{save_path}{model_name}.csv\")\n",
    "print(classification_report(result[\"Decision\"], result[\"Detection\"]))"
   ]
  },
  {
   "cell_type": "code",
   "execution_count": null,
   "metadata": {},
   "outputs": [],
   "source": [
    "g = pd.read_csv(\"./data/GoldSet.csv\")\n",
    "filtered_result = result[result['CommitHash'].isin(g['CommitHash'])]\n",
    "print(classification_report(filtered_result[\"Decision\"], filtered_result[\"Detection\"]))\n",
    "cm = confusion_matrix(filtered_result[\"Decision\"], filtered_result[\"Detection\"], labels=[\"Buggy\", \"NotBuggy\"])\n",
    "fig = ConfusionMatrixDisplay(cm, display_labels=[\"Buggy\", \"NotBuggy\"])\n",
    "fig.plot()"
   ]
  },
  {
   "cell_type": "markdown",
   "metadata": {},
   "source": [
    "## gemini-2.0-flash"
   ]
  },
  {
   "cell_type": "code",
   "execution_count": null,
   "metadata": {},
   "outputs": [
    {
     "name": "stderr",
     "output_type": "stream",
     "text": [
      "1776it [52:33,  1.78s/it]\n"
     ]
    }
   ],
   "source": [
    "model_name = \"gemini-2.0-flash\"\n",
    "untangler = GeminiUntangler(model_name, True, 0, True)\n",
    "result = untangler.batch_detect(df)\n",
    "result[\"Detection\"] = result[\"Detection\"].apply(lambda x: x.strip())\n",
    "result[\"Detection\"] = result[\"Detection\"].apply(lambda x: x.replace(\"**Conclusion:**\", \"\").strip())\n",
    "result[\"Detection\"] = result[\"Detection\"].apply(lambda x: x.replace(\"Conclusion:\", \"\").strip())\n",
    "result[\"Detection\"] = result[\"Detection\"].apply(lambda x: x.replace(\"** **\", \"\").strip())\n",
    "result.to_csv(f\"{save_path}{model_name}.csv\", index = False)"
   ]
  },
  {
   "cell_type": "code",
   "execution_count": 33,
   "metadata": {},
   "outputs": [
    {
     "name": "stdout",
     "output_type": "stream",
     "text": [
      "              precision    recall  f1-score   support\n",
      "\n",
      "       Buggy       0.69      0.98      0.81       900\n",
      "    NotBuggy       0.97      0.54      0.69       876\n",
      "\n",
      "    accuracy                           0.77      1776\n",
      "   macro avg       0.83      0.76      0.75      1776\n",
      "weighted avg       0.83      0.77      0.75      1776\n",
      "\n"
     ]
    }
   ],
   "source": [
    "model_name = \"gemini-2.0-flash\"\n",
    "result = pd.read_csv(f\"{save_path}{model_name}.csv\")\n",
    "print(classification_report(result[\"Decision\"], result[\"Detection\"]))"
   ]
  },
  {
   "cell_type": "code",
   "execution_count": 34,
   "metadata": {},
   "outputs": [
    {
     "name": "stdout",
     "output_type": "stream",
     "text": [
      "              precision    recall  f1-score   support\n",
      "\n",
      "       Buggy       0.60      1.00      0.75       168\n",
      "    NotBuggy       1.00      0.24      0.38       144\n",
      "\n",
      "    accuracy                           0.65       312\n",
      "   macro avg       0.80      0.62      0.57       312\n",
      "weighted avg       0.79      0.65      0.58       312\n",
      "\n"
     ]
    },
    {
     "data": {
      "text/plain": [
       "<sklearn.metrics._plot.confusion_matrix.ConfusionMatrixDisplay at 0x12d5c9bc2f0>"
      ]
     },
     "execution_count": 34,
     "metadata": {},
     "output_type": "execute_result"
    },
    {
     "data": {
      "image/png": "[encoded data removed]",
      "text/plain": [
       "<Figure size 640x480 with 2 Axes>"
      ]
     },
     "metadata": {},
     "output_type": "display_data"
    }
   ],
   "source": [
    "g = pd.read_csv(\"./data/GoldSet.csv\")\n",
    "filtered_result = result[result['CommitHash'].isin(g['CommitHash'])]\n",
    "print(classification_report(filtered_result[\"Decision\"], filtered_result[\"Detection\"]))\n",
    "cm = confusion_matrix(filtered_result[\"Decision\"], filtered_result[\"Detection\"], labels=[\"Buggy\", \"NotBuggy\"])\n",
    "fig = ConfusionMatrixDisplay(cm, display_labels=[\"Buggy\", \"NotBuggy\"])\n",
    "fig.plot()"
   ]
  },
  {
   "cell_type": "markdown",
   "metadata": {},
   "source": [
    "# Few-shot + Chain of Thought"
   ]
  },
  {
   "cell_type": "code",
   "execution_count": 36,
   "metadata": {},
   "outputs": [],
   "source": [
    "save_path = \"./Results/RQ2/FewShotCOT/\"\n",
    "os.makedirs(save_path, exist_ok=True)"
   ]
  },
  {
   "cell_type": "markdown",
   "metadata": {},
   "source": [
    "## gpt-4o"
   ]
  },
  {
   "cell_type": "code",
   "execution_count": null,
   "metadata": {},
   "outputs": [],
   "source": [
    "model_name = \"gpt-4o\"\n",
    "untangler = OpenAIUntangler(model_name, True, 2, True)\n",
    "result = untangler.batch_detect(df, iteratively=False)\n",
    "result.to_csv(f\"{save_path}{model_name}.csv\", index = False)"
   ]
  },
  {
   "cell_type": "code",
   "execution_count": null,
   "metadata": {},
   "outputs": [],
   "source": [
    "model_name = \"gpt-4o\"\n",
    "result = pd.read_csv(f\"{save_path}{model_name}.csv\")\n",
    "print(classification_report(result[\"Decision\"], result[\"Detection\"]))"
   ]
  },
  {
   "cell_type": "code",
   "execution_count": null,
   "metadata": {},
   "outputs": [],
   "source": [
    "g = pd.read_csv(\"./data/GoldSet.csv\")\n",
    "filtered_result = result[result['CommitHash'].isin(g['CommitHash'])]\n",
    "print(classification_report(filtered_result[\"Decision\"], filtered_result[\"Detection\"]))\n",
    "cm = confusion_matrix(filtered_result[\"Decision\"], filtered_result[\"Detection\"], labels=[\"Buggy\", \"NotBuggy\"])\n",
    "fig = ConfusionMatrixDisplay(cm, display_labels=[\"Buggy\", \"NotBuggy\"])\n",
    "fig.plot()"
   ]
  },
  {
   "cell_type": "markdown",
   "metadata": {},
   "source": [
    "## gemini-2.0-flash"
   ]
  },
  {
   "cell_type": "code",
   "execution_count": 39,
   "metadata": {},
   "outputs": [
    {
     "name": "stderr",
     "output_type": "stream",
     "text": [
      "1776it [34:31,  1.17s/it]\n"
     ]
    }
   ],
   "source": [
    "model_name = \"gemini-2.0-flash\"\n",
    "untangler = GeminiUntangler(model_name, True, 2, True)\n",
    "result = untangler.batch_detect(df)\n",
    "result[\"Detection\"] = result[\"Detection\"].apply(lambda x: x.strip())\n",
    "result.to_csv(f\"{save_path}{model_name}.csv\", index = False)"
   ]
  },
  {
   "cell_type": "code",
   "execution_count": 40,
   "metadata": {},
   "outputs": [
    {
     "name": "stdout",
     "output_type": "stream",
     "text": [
      "              precision    recall  f1-score   support\n",
      "\n",
      "       Buggy       0.73      0.98      0.84       900\n",
      "    NotBuggy       0.97      0.63      0.76       876\n",
      "\n",
      "    accuracy                           0.81      1776\n",
      "   macro avg       0.85      0.80      0.80      1776\n",
      "weighted avg       0.85      0.81      0.80      1776\n",
      "\n"
     ]
    }
   ],
   "source": [
    "model_name = \"gemini-2.0-flash\"\n",
    "result = pd.read_csv(f\"{save_path}{model_name}.csv\")\n",
    "print(classification_report(result[\"Decision\"], result[\"Detection\"]))"
   ]
  },
  {
   "cell_type": "code",
   "execution_count": 41,
   "metadata": {},
   "outputs": [
    {
     "name": "stdout",
     "output_type": "stream",
     "text": [
      "              precision    recall  f1-score   support\n",
      "\n",
      "       Buggy       0.62      0.99      0.76       168\n",
      "    NotBuggy       0.96      0.30      0.46       144\n",
      "\n",
      "    accuracy                           0.67       312\n",
      "   macro avg       0.79      0.64      0.61       312\n",
      "weighted avg       0.78      0.67      0.62       312\n",
      "\n"
     ]
    },
    {
     "data": {
      "text/plain": [
       "<sklearn.metrics._plot.confusion_matrix.ConfusionMatrixDisplay at 0x12d6071cb00>"
      ]
     },
     "execution_count": 41,
     "metadata": {},
     "output_type": "execute_result"
    },
    {
     "data": {
      "image/png": "[encoded data removed]",
      "text/plain": [
       "<Figure size 640x480 with 2 Axes>"
      ]
     },
     "metadata": {},
     "output_type": "display_data"
    }
   ],
   "source": [
    "g = pd.read_csv(\"./data/GoldSet.csv\")\n",
    "filtered_result = result[result['CommitHash'].isin(g['CommitHash'])]\n",
    "print(classification_report(filtered_result[\"Decision\"], filtered_result[\"Detection\"]))\n",
    "cm = confusion_matrix(filtered_result[\"Decision\"], filtered_result[\"Detection\"], labels=[\"Buggy\", \"NotBuggy\"])\n",
    "fig = ConfusionMatrixDisplay(cm, display_labels=[\"Buggy\", \"NotBuggy\"])\n",
    "fig.plot()"
   ]
  }
 ],
 "metadata": {
  "kernelspec": {
   "display_name": "Python 3",
   "language": "python",
   "name": "python3"
  },
  "language_info": {
   "codemirror_mode": {
    "name": "ipython",
    "version": 3
   },
   "file_extension": ".py",
   "mimetype": "text/x-python",
   "name": "python",
   "nbconvert_exporter": "python",
   "pygments_lexer": "ipython3",
   "version": "3.10.16"
  }
 },
 "nbformat": 4,
 "nbformat_minor": 2
}
